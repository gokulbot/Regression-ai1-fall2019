{
  "nbformat": 4,
  "nbformat_minor": 0,
  "metadata": {
    "anaconda-cloud": {},
    "kernelspec": {
      "display_name": "Python 3",
      "language": "python",
      "name": "python3"
    },
    "language_info": {
      "codemirror_mode": {
        "name": "ipython",
        "version": 3
      },
      "file_extension": ".py",
      "mimetype": "text/x-python",
      "name": "python",
      "nbconvert_exporter": "python",
      "pygments_lexer": "ipython3",
      "version": "3.6.8"
    },
    "nteract": {
      "version": "0.7.1"
    },
    "colab": {
      "name": "linreg.ipynb",
      "provenance": [],
      "include_colab_link": true
    }
  },
  "cells": [
    {
      "cell_type": "markdown",
      "metadata": {
        "id": "view-in-github",
        "colab_type": "text"
      },
      "source": [
        "<a href=\"https://colab.research.google.com/github/gokulbot/Regression-ai1-fall2019/blob/master/linreg.ipynb\" target=\"_parent\"><img src=\"https://colab.research.google.com/assets/colab-badge.svg\" alt=\"Open In Colab\"/></a>"
      ]
    },
    {
      "cell_type": "markdown",
      "metadata": {
        "id": "Iyc1Eaw0TR4d",
        "colab_type": "text"
      },
      "source": [
        "# Linear Regression Multiple Ways"
      ]
    },
    {
      "cell_type": "markdown",
      "metadata": {
        "id": "sBaw1mqWTR4f",
        "colab_type": "text"
      },
      "source": [
        "## Making the data\n",
        "\n",
        "We'll first construct a synthetic data set..using a function from the `scikit-learn` library. Synthetic data is nice in the sense that we can constrain how the noise behaves, and thus isolate effects."
      ]
    },
    {
      "cell_type": "code",
      "metadata": {
        "id": "turCgeS9TR4g",
        "colab_type": "code",
        "colab": {}
      },
      "source": [
        "%matplotlib inline\n",
        "from sklearn.datasets import make_regression\n",
        "import numpy as np\n",
        "import matplotlib.pyplot as plt"
      ],
      "execution_count": 0,
      "outputs": []
    },
    {
      "cell_type": "code",
      "metadata": {
        "id": "XZ3YsY8wTR4k",
        "colab_type": "code",
        "colab": {}
      },
      "source": [
        "#code adapted from http://tillbergmann.com/blog/python-gradient-descent.html\n",
        "X, y, coef = make_regression(n_samples = 100, \n",
        "                       n_features=1, \n",
        "                       noise=20,\n",
        "                       random_state=2017,\n",
        "                       coef=True)"
      ],
      "execution_count": 0,
      "outputs": []
    },
    {
      "cell_type": "markdown",
      "metadata": {
        "id": "GALt5VpjTR4m",
        "colab_type": "text"
      },
      "source": [
        "Notice that the X is in the canonical array-of-arrays format.\n",
        "**Try and print its shape**"
      ]
    },
    {
      "cell_type": "code",
      "metadata": {
        "id": "t9Yru7rSTR4n",
        "colab_type": "code",
        "outputId": "3142e86d-6593-4cbb-e931-32d0f397617d",
        "colab": {
          "base_uri": "https://localhost:8080/",
          "height": 34
        }
      },
      "source": [
        "X.shape"
      ],
      "execution_count": 0,
      "outputs": [
        {
          "output_type": "execute_result",
          "data": {
            "text/plain": [
              "(100, 1)"
            ]
          },
          "metadata": {
            "tags": []
          },
          "execution_count": 130
        }
      ]
    },
    {
      "cell_type": "markdown",
      "metadata": {
        "id": "o3IV6OsrTR4p",
        "colab_type": "text"
      },
      "source": [
        "We are fitting a model with an intercept. Lets see what it is."
      ]
    },
    {
      "cell_type": "code",
      "metadata": {
        "id": "GzMY8w27TR4p",
        "colab_type": "code",
        "outputId": "43a2ab36-b0b4-411b-e232-7a626d18f1d1",
        "colab": {
          "base_uri": "https://localhost:8080/",
          "height": 34
        }
      },
      "source": [
        "coef"
      ],
      "execution_count": 0,
      "outputs": [
        {
          "output_type": "execute_result",
          "data": {
            "text/plain": [
              "array(19.62679425)"
            ]
          },
          "metadata": {
            "tags": []
          },
          "execution_count": 10
        }
      ]
    },
    {
      "cell_type": "markdown",
      "metadata": {
        "id": "ocgmpCokTR4t",
        "colab_type": "text"
      },
      "source": [
        "We can plot the data."
      ]
    },
    {
      "cell_type": "code",
      "metadata": {
        "id": "cp24v88nTR4u",
        "colab_type": "code",
        "outputId": "40c8f96c-3c06-4899-9adc-7132856c90dc",
        "colab": {
          "base_uri": "https://localhost:8080/",
          "height": 269
        }
      },
      "source": [
        "plt.plot(X,y, 'o');"
      ],
      "execution_count": 0,
      "outputs": [
        {
          "output_type": "display_data",
          "data": {
            "image/png": "[encoded data removed]",
            "text/plain": [
              "<Figure size 432x288 with 1 Axes>"
            ]
          },
          "metadata": {
            "tags": []
          }
        }
      ]
    },
    {
      "cell_type": "markdown",
      "metadata": {
        "id": "lNOMLof5TR4w",
        "colab_type": "text"
      },
      "source": [
        "For the purposes of drawing the regression line, lets create a uniform grid of points, and then reshape it into the canonical format"
      ]
    },
    {
      "cell_type": "code",
      "metadata": {
        "id": "ze6OzQdITR4x",
        "colab_type": "code",
        "outputId": "1ef04c68-317b-4974-dc6b-293a04ae7599",
        "colab": {
          "base_uri": "https://localhost:8080/",
          "height": 34
        }
      },
      "source": [
        "xgrid = np.linspace(-2.5,2.5,100)\n",
        "Xgrid = xgrid.reshape(-1,1)\n",
        "Xgrid.shape\n",
        "xgrid.shape"
      ],
      "execution_count": 11,
      "outputs": [
        {
          "output_type": "execute_result",
          "data": {
            "text/plain": [
              "(100,)"
            ]
          },
          "metadata": {
            "tags": []
          },
          "execution_count": 11
        }
      ]
    },
    {
      "cell_type": "markdown",
      "metadata": {
        "id": "dbTI0ozJTR40",
        "colab_type": "text"
      },
      "source": [
        "## Fit using sklearn"
      ]
    },
    {
      "cell_type": "code",
      "metadata": {
        "id": "Ipmcaex9TR40",
        "colab_type": "code",
        "colab": {}
      },
      "source": [
        "from sklearn.linear_model import LinearRegression"
      ],
      "execution_count": 0,
      "outputs": []
    },
    {
      "cell_type": "code",
      "metadata": {
        "id": "m1iaU476TR43",
        "colab_type": "code",
        "outputId": "84c9d352-0946-48d8-bb59-6d2ec2ee6d16",
        "colab": {
          "base_uri": "https://localhost:8080/",
          "height": 34
        }
      },
      "source": [
        "lr = LinearRegression()\n",
        "lr.fit(X,y)\n",
        "ypgrid = lr.predict(Xgrid)\n",
        "lr.coef_, lr.intercept_"
      ],
      "execution_count": 0,
      "outputs": [
        {
          "output_type": "execute_result",
          "data": {
            "text/plain": [
              "(array([82.90456142]), -3.709228868670302)"
            ]
          },
          "metadata": {
            "tags": []
          },
          "execution_count": 41
        }
      ]
    },
    {
      "cell_type": "code",
      "metadata": {
        "id": "2MY2yhNhTR47",
        "colab_type": "code",
        "outputId": "49308caf-5562-4679-e793-697d1b31607e",
        "colab": {
          "base_uri": "https://localhost:8080/",
          "height": 286
        }
      },
      "source": [
        "plt.plot(Xgrid, ypgrid)\n",
        "plt.plot(X, y, '.')"
      ],
      "execution_count": 0,
      "outputs": [
        {
          "output_type": "execute_result",
          "data": {
            "text/plain": [
              "[<matplotlib.lines.Line2D at 0x7f1759047ac8>]"
            ]
          },
          "metadata": {
            "tags": []
          },
          "execution_count": 43
        },
        {
          "output_type": "display_data",
          "data": {
            "image/png": "[encoded data removed]",
            "text/plain": [
              "<Figure size 432x288 with 1 Axes>"
            ]
          },
          "metadata": {
            "tags": []
          }
        }
      ]
    },
    {
      "cell_type": "code",
      "metadata": {
        "id": "qkQQR20STR49",
        "colab_type": "code",
        "colab": {}
      },
      "source": [
        "from sklearn.metrics import r2_score"
      ],
      "execution_count": 0,
      "outputs": []
    },
    {
      "cell_type": "code",
      "metadata": {
        "id": "W8Ehu2rETR4_",
        "colab_type": "code",
        "outputId": "66e971b6-b19e-401b-9f9d-e7aa2c561cec",
        "colab": {
          "base_uri": "https://localhost:8080/",
          "height": 34
        }
      },
      "source": [
        "r2_score(y, lr.predict(X))"
      ],
      "execution_count": 0,
      "outputs": [
        {
          "output_type": "execute_result",
          "data": {
            "text/plain": [
              "0.5174808459372087"
            ]
          },
          "metadata": {
            "tags": []
          },
          "execution_count": 28
        }
      ]
    },
    {
      "cell_type": "markdown",
      "metadata": {
        "id": "qmuSjTFnTR5C",
        "colab_type": "text"
      },
      "source": [
        "## The impact of sample size\n",
        "\n",
        "We'll sample 20 points from the data set. We do this by sampling 20 indices, index into X and y, and then fit on the sample"
      ]
    },
    {
      "cell_type": "code",
      "metadata": {
        "id": "ALaMHYObTR5C",
        "colab_type": "code",
        "outputId": "3f6f2bc8-1b9e-4602-fd47-342af7339f26",
        "colab": {
          "base_uri": "https://localhost:8080/",
          "height": 52
        }
      },
      "source": [
        "sample_indices = np.random.choice(range(100), size=20)\n",
        "sample_indices"
      ],
      "execution_count": 0,
      "outputs": [
        {
          "output_type": "execute_result",
          "data": {
            "text/plain": [
              "array([ 5, 74, 69, 31, 70, 88, 11, 66, 90,  0, 47, 82, 56, 76, 84, 29,  6,\n",
              "       91, 79, 17])"
            ]
          },
          "metadata": {
            "tags": []
          },
          "execution_count": 31
        }
      ]
    },
    {
      "cell_type": "code",
      "metadata": {
        "id": "KU05Uf2kTR5F",
        "colab_type": "code",
        "colab": {}
      },
      "source": [
        "Xsample = X[sample_indices]\n",
        "ysample = y[sample_indices]"
      ],
      "execution_count": 0,
      "outputs": []
    },
    {
      "cell_type": "code",
      "metadata": {
        "id": "d1Hdv-tqTR5I",
        "colab_type": "code",
        "outputId": "0b5d6284-e20f-4298-851f-932532456aaa",
        "colab": {
          "base_uri": "https://localhost:8080/",
          "height": 34
        }
      },
      "source": [
        "lr_s = LinearRegression().fit(Xsample, ysample)\n",
        "r2_score(ysample, lr_s.predict(Xsample)), lr_s.score(Xsample, ysample)"
      ],
      "execution_count": 0,
      "outputs": [
        {
          "output_type": "execute_result",
          "data": {
            "text/plain": [
              "(0.8944406112495604, 0.8944406112495605)"
            ]
          },
          "metadata": {
            "tags": []
          },
          "execution_count": 44
        }
      ]
    },
    {
      "cell_type": "markdown",
      "metadata": {
        "id": "Na5jgAftTR5K",
        "colab_type": "text"
      },
      "source": [
        "Lets check the sensitivity of our prediction to our sample. We'll do this 1000 times"
      ]
    },
    {
      "cell_type": "code",
      "metadata": {
        "id": "bySCRaixTR5L",
        "colab_type": "code",
        "outputId": "a0d19df9-9893-4fde-eb99-72022432172b",
        "colab": {
          "base_uri": "https://localhost:8080/",
          "height": 286
        }
      },
      "source": [
        "scores = []\n",
        "for i in range(1000):\n",
        "    sample_indices = np.random.choice(range(100), size=20)\n",
        "    Xsample = X[sample_indices]\n",
        "    ysample = y[sample_indices]\n",
        "    scores.append(lr_s.fit(Xsample, ysample).score(Xsample, ysample))\n",
        "plt.hist(scores,  bins=np.linspace(0.7, 1, 30))\n",
        "plt.xlim(0.7,1)"
      ],
      "execution_count": 0,
      "outputs": [
        {
          "output_type": "execute_result",
          "data": {
            "text/plain": [
              "(0.7, 1)"
            ]
          },
          "metadata": {
            "tags": []
          },
          "execution_count": 82
        },
        {
          "output_type": "display_data",
          "data": {
            "image/png": "[encoded data removed]",
            "text/plain": [
              "<Figure size 432x288 with 1 Axes>"
            ]
          },
          "metadata": {
            "tags": []
          }
        }
      ]
    },
    {
      "cell_type": "markdown",
      "metadata": {
        "id": "57x-RXGwTR5O",
        "colab_type": "text"
      },
      "source": [
        "Redo this with a higher amount of noise (about 400). For this you will need to create a new dataset. Plot the data. Plot the histogram of the R^2 as well as that of the coefficients.Try a smaller dataset as well. What conclusions can you draw?"
      ]
    },
    {
      "cell_type": "code",
      "metadata": {
        "id": "_JeUchx-TR5P",
        "colab_type": "code",
        "outputId": "d5feed7f-3f58-4da3-bc81-fd0bb29a89e9",
        "colab": {
          "base_uri": "https://localhost:8080/",
          "height": 286
        }
      },
      "source": [
        "# your code here\n",
        "Xnew, ynew, coefnew = make_regression(n_samples = 100, \n",
        "                       n_features=1, \n",
        "                       noise=40,\n",
        "                       random_state=2017,\n",
        "                       coef=True)\n",
        "plt.plot(Xnew, ynew, 'o');\n",
        "coefnew"
      ],
      "execution_count": 0,
      "outputs": [
        {
          "output_type": "execute_result",
          "data": {
            "text/plain": [
              "array(80.88336208)"
            ]
          },
          "metadata": {
            "tags": []
          },
          "execution_count": 112
        },
        {
          "output_type": "display_data",
          "data": {
            "image/png": "[encoded data removed]",
            "text/plain": [
              "<Figure size 432x288 with 1 Axes>"
            ]
          },
          "metadata": {
            "tags": []
          }
        }
      ]
    },
    {
      "cell_type": "code",
      "metadata": {
        "id": "EBwQ9TR7IIt9",
        "colab_type": "code",
        "outputId": "e707b650-a32c-489a-f241-3261d81fdf40",
        "colab": {
          "base_uri": "https://localhost:8080/",
          "height": 34
        }
      },
      "source": [
        "X.shape\n"
      ],
      "execution_count": 0,
      "outputs": [
        {
          "output_type": "execute_result",
          "data": {
            "text/plain": [
              "(100, 1)"
            ]
          },
          "metadata": {
            "tags": []
          },
          "execution_count": 131
        }
      ]
    },
    {
      "cell_type": "code",
      "metadata": {
        "id": "rz-kwfw7hCif",
        "colab_type": "code",
        "outputId": "872c1dee-0764-4946-a432-b1ff536afdd4",
        "colab": {
          "base_uri": "https://localhost:8080/",
          "height": 34
        }
      },
      "source": [
        "lrnew = LinearRegression()\n",
        "lrnew.fit(Xnew,ynew)\n",
        "ypgrid = lrnew.predict(Xgrid)\n",
        "lrnew.coef_, lrnew.intercept_"
      ],
      "execution_count": 0,
      "outputs": [
        {
          "output_type": "execute_result",
          "data": {
            "text/plain": [
              "(array([84.92576075]), -7.418457737340606)"
            ]
          },
          "metadata": {
            "tags": []
          },
          "execution_count": 113
        }
      ]
    },
    {
      "cell_type": "code",
      "metadata": {
        "id": "btVAFtVshq4A",
        "colab_type": "code",
        "outputId": "7b8911c1-5474-47ff-ea7d-659d01b2ca52",
        "colab": {
          "base_uri": "https://localhost:8080/",
          "height": 286
        }
      },
      "source": [
        "plt.plot(Xgrid,ypgrid);\n",
        "plt.plot(Xnew,ynew,'o')"
      ],
      "execution_count": 0,
      "outputs": [
        {
          "output_type": "execute_result",
          "data": {
            "text/plain": [
              "[<matplotlib.lines.Line2D at 0x7f1758550400>]"
            ]
          },
          "metadata": {
            "tags": []
          },
          "execution_count": 114
        },
        {
          "output_type": "display_data",
          "data": {
            "image/png": "[encoded data removed]",
            "text/plain": [
              "<Figure size 432x288 with 1 Axes>"
            ]
          },
          "metadata": {
            "tags": []
          }
        }
      ]
    },
    {
      "cell_type": "code",
      "metadata": {
        "id": "SnYiTd6jTR5S",
        "colab_type": "code",
        "outputId": "2351b6d9-680d-4425-b253-33e1e40829b0",
        "colab": {
          "base_uri": "https://localhost:8080/",
          "height": 286
        }
      },
      "source": [
        "# your code here\n",
        "scores = []\n",
        "models = []\n",
        "coeff= []\n",
        "intercept=[]\n",
        "for i in range(1000):\n",
        "    sample_indices = np.random.choice(range(100), size=20)\n",
        "    Xsample = X[sample_indices]\n",
        "    ysample = y[sample_indices]\n",
        "    \n",
        "    models.append(lr_s.fit(Xsample, ysample))\n",
        "    intercept.append(models[i].intercept_)\n",
        "    coeff.append(models[i].coef_[0])\n",
        "    scores.append(models[i].score(Xsample, ysample))\n",
        "plt.hist(scores, bins=np.linspace(0.7, 1, 30));\n",
        "plt.xlim(0.7,1)"
      ],
      "execution_count": 0,
      "outputs": [
        {
          "output_type": "execute_result",
          "data": {
            "text/plain": [
              "(0.7, 1)"
            ]
          },
          "metadata": {
            "tags": []
          },
          "execution_count": 126
        },
        {
          "output_type": "display_data",
          "data": {
            "image/png": "[encoded data removed]",
            "text/plain": [
              "<Figure size 432x288 with 1 Axes>"
            ]
          },
          "metadata": {
            "tags": []
          }
        }
      ]
    },
    {
      "cell_type": "code",
      "metadata": {
        "id": "Sn_PbxT-TR5V",
        "colab_type": "code",
        "outputId": "2f9bfbeb-05dd-44c9-9de5-c76f6e18c71f",
        "colab": {
          "base_uri": "https://localhost:8080/",
          "height": 286
        }
      },
      "source": [
        "# your code here\n",
        "scores = []\n",
        "models = []\n",
        "for i in range(100):\n",
        "    sample_indices = np.random.choice(range(100), size=10)\n",
        "    Xsample = X[sample_indices]\n",
        "    ysample = y[sample_indices]\n",
        "    models.append(LinearRegression().fit(Xsample, ysample))\n",
        "    scores.append(models[i].score(Xsample, ysample))\n",
        "plt.hist(scores, bins=np.linspace(0.7, 1, 30));\n",
        "plt.xlim(0.7,1)"
      ],
      "execution_count": 0,
      "outputs": [
        {
          "output_type": "execute_result",
          "data": {
            "text/plain": [
              "(0.7, 1)"
            ]
          },
          "metadata": {
            "tags": []
          },
          "execution_count": 136
        },
        {
          "output_type": "display_data",
          "data": {
            "image/png": "[encoded data removed]",
            "text/plain": [
              "<Figure size 432x288 with 1 Axes>"
            ]
          },
          "metadata": {
            "tags": []
          }
        }
      ]
    },
    {
      "cell_type": "code",
      "metadata": {
        "id": "LWxtpVqATR5a",
        "colab_type": "code",
        "outputId": "6526e846-da90-4075-fbd4-163f8aeff35b",
        "colab": {
          "base_uri": "https://localhost:8080/",
          "height": 286
        }
      },
      "source": [
        "# your code here\n",
        "plt.hist([models[i].coef_[0] for i in range(1000)], bins=10);\n",
        "models[i].coef_[0]"
      ],
      "execution_count": 0,
      "outputs": [
        {
          "output_type": "execute_result",
          "data": {
            "text/plain": [
              "85.47438353572755"
            ]
          },
          "metadata": {
            "tags": []
          },
          "execution_count": 75
        },
        {
          "output_type": "display_data",
          "data": {
            "image/png": "[encoded data removed]",
            "text/plain": [
              "<Figure size 432x288 with 1 Axes>"
            ]
          },
          "metadata": {
            "tags": []
          }
        }
      ]
    },
    {
      "cell_type": "code",
      "metadata": {
        "id": "F_xzlN93TR5d",
        "colab_type": "code",
        "outputId": "28d8b574-e920-42a7-beed-9ab46d5b95ef",
        "colab": {}
      },
      "source": [
        "# your code here\n",
        "plt.hist([models[i].intercept_ for i in range(100)], bins=10);"
      ],
      "execution_count": 0,
      "outputs": [
        {
          "output_type": "display_data",
          "data": {
            "image/png": "[encoded data removed]",
            "text/plain": [
              "<Figure size 432x288 with 1 Axes>"
            ]
          },
          "metadata": {
            "tags": []
          }
        }
      ]
    },
    {
      "cell_type": "code",
      "metadata": {
        "id": "817tfAgXINtF",
        "colab_type": "code",
        "outputId": "2a4d8224-136b-4a59-b1b5-9bcdb947ef0a",
        "colab": {
          "base_uri": "https://localhost:8080/",
          "height": 34
        }
      },
      "source": [
        "X.shape"
      ],
      "execution_count": 0,
      "outputs": [
        {
          "output_type": "execute_result",
          "data": {
            "text/plain": [
              "(100, 1)"
            ]
          },
          "metadata": {
            "tags": []
          },
          "execution_count": 132
        }
      ]
    },
    {
      "cell_type": "code",
      "metadata": {
        "id": "jBvI29cnf3RJ",
        "colab_type": "code",
        "outputId": "98c92fb3-9a70-4055-aef5-38b65360af51",
        "colab": {
          "base_uri": "https://localhost:8080/",
          "height": 238
        }
      },
      "source": [
        "plt.plot(Xgrid,ypgrid,lw= 5)\n",
        "plt.plot(X,y ,'.')\n",
        "for i in range(1000):\n",
        "  line= lambda x: coeff[i]*x + intercept[i]\n",
        "  plt.plot(xgrid,line(Xgrid),alpha= 0.01)"
      ],
      "execution_count": 12,
      "outputs": [
        {
          "output_type": "error",
          "ename": "NameError",
          "evalue": "ignored",
          "traceback": [
            "\u001b[0;31m---------------------------------------------------------------------------\u001b[0m",
            "\u001b[0;31mNameError\u001b[0m                                 Traceback (most recent call last)",
            "\u001b[0;32m<ipython-input-12-c2a08c4ee35b>\u001b[0m in \u001b[0;36m<module>\u001b[0;34m()\u001b[0m\n\u001b[0;32m----> 1\u001b[0;31m \u001b[0mplt\u001b[0m\u001b[0;34m.\u001b[0m\u001b[0mplot\u001b[0m\u001b[0;34m(\u001b[0m\u001b[0mXgrid\u001b[0m\u001b[0;34m,\u001b[0m\u001b[0mypgrid\u001b[0m\u001b[0;34m,\u001b[0m\u001b[0mlw\u001b[0m\u001b[0;34m=\u001b[0m \u001b[0;36m5\u001b[0m\u001b[0;34m)\u001b[0m\u001b[0;34m\u001b[0m\u001b[0;34m\u001b[0m\u001b[0m\n\u001b[0m\u001b[1;32m      2\u001b[0m \u001b[0mplt\u001b[0m\u001b[0;34m.\u001b[0m\u001b[0mplot\u001b[0m\u001b[0;34m(\u001b[0m\u001b[0mX\u001b[0m\u001b[0;34m,\u001b[0m\u001b[0my\u001b[0m \u001b[0;34m,\u001b[0m\u001b[0;34m'.'\u001b[0m\u001b[0;34m)\u001b[0m\u001b[0;34m\u001b[0m\u001b[0;34m\u001b[0m\u001b[0m\n\u001b[1;32m      3\u001b[0m \u001b[0;32mfor\u001b[0m \u001b[0mi\u001b[0m \u001b[0;32min\u001b[0m \u001b[0mrange\u001b[0m\u001b[0;34m(\u001b[0m\u001b[0;36m1000\u001b[0m\u001b[0;34m)\u001b[0m\u001b[0;34m:\u001b[0m\u001b[0;34m\u001b[0m\u001b[0;34m\u001b[0m\u001b[0m\n\u001b[1;32m      4\u001b[0m   \u001b[0mline\u001b[0m\u001b[0;34m=\u001b[0m \u001b[0;32mlambda\u001b[0m \u001b[0mx\u001b[0m\u001b[0;34m:\u001b[0m \u001b[0mcoeff\u001b[0m\u001b[0;34m[\u001b[0m\u001b[0mi\u001b[0m\u001b[0;34m]\u001b[0m\u001b[0;34m*\u001b[0m\u001b[0mx\u001b[0m \u001b[0;34m+\u001b[0m \u001b[0mintercept\u001b[0m\u001b[0;34m[\u001b[0m\u001b[0mi\u001b[0m\u001b[0;34m]\u001b[0m\u001b[0;34m\u001b[0m\u001b[0;34m\u001b[0m\u001b[0m\n\u001b[1;32m      5\u001b[0m   \u001b[0mplt\u001b[0m\u001b[0;34m.\u001b[0m\u001b[0mplot\u001b[0m\u001b[0;34m(\u001b[0m\u001b[0mxgrid\u001b[0m\u001b[0;34m,\u001b[0m\u001b[0mline\u001b[0m\u001b[0;34m(\u001b[0m\u001b[0mXgrid\u001b[0m\u001b[0;34m)\u001b[0m\u001b[0;34m,\u001b[0m\u001b[0malpha\u001b[0m\u001b[0;34m=\u001b[0m \u001b[0;36m0.01\u001b[0m\u001b[0;34m)\u001b[0m\u001b[0;34m\u001b[0m\u001b[0;34m\u001b[0m\u001b[0m\n",
            "\u001b[0;31mNameError\u001b[0m: name 'ypgrid' is not defined"
          ]
        }
      ]
    },
    {
      "cell_type": "markdown",
      "metadata": {
        "id": "knlinfWSTR5f",
        "colab_type": "text"
      },
      "source": [
        "## Testing and training\n",
        "\n",
        "A grid like the one we created might contain some of the points we fit this model on. This is called **Data Contamination** and is a big no-no. If we want an independent estimate of the error, we should hold out some points in a test set."
      ]
    },
    {
      "cell_type": "code",
      "metadata": {
        "id": "Ak9gjLn8TR5g",
        "colab_type": "code",
        "colab": {}
      },
      "source": [
        "from sklearn.model_selection import train_test_split"
      ],
      "execution_count": 0,
      "outputs": []
    },
    {
      "cell_type": "code",
      "metadata": {
        "id": "StrVbIuaTR5i",
        "colab_type": "code",
        "colab": {}
      },
      "source": [
        "Xtrain, Xtest, ytrain, ytest = train_test_split(X, y, test_size=0.2, random_state=2017)"
      ],
      "execution_count": 0,
      "outputs": []
    },
    {
      "cell_type": "markdown",
      "metadata": {
        "id": "TBcgR1HeTR5m",
        "colab_type": "text"
      },
      "source": [
        "Now lets fit the model on the training set and evaluate it both on the training set and the test set. We print the R^2"
      ]
    },
    {
      "cell_type": "code",
      "metadata": {
        "id": "q1vSaZAKTR5n",
        "colab_type": "code",
        "colab": {}
      },
      "source": [
        "lr2 = LinearRegression().fit(Xtrain, ytrain)\n",
        "r2_test = r2_score(ytest, lr.predict(Xtest))\n",
        "r2_train = r2_score(ytrain, lr.predict(Xtrain))"
      ],
      "execution_count": 0,
      "outputs": []
    },
    {
      "cell_type": "code",
      "metadata": {
        "id": "70D51tM-TR5p",
        "colab_type": "code",
        "outputId": "8df9143a-ad9e-4cbb-b223-8682ae4d720f",
        "colab": {}
      },
      "source": [
        "\"Train R2 is {}, while test R^2 is {}\".format(r2_train, r2_test)"
      ],
      "execution_count": 0,
      "outputs": [
        {
          "output_type": "execute_result",
          "data": {
            "text/plain": [
              "'Train R2 is 0.9302930567263316, while test R^2 is 0.9446796445954511'"
            ]
          },
          "metadata": {
            "tags": []
          },
          "execution_count": 32
        }
      ]
    },
    {
      "cell_type": "markdown",
      "metadata": {
        "id": "pDHHi44uTR5r",
        "colab_type": "text"
      },
      "source": [
        "## Using Keras to fit the model\n",
        "\n",
        "We'll use plain and simple gradient descent (why?) and Keras's Sequential API"
      ]
    },
    {
      "cell_type": "code",
      "metadata": {
        "id": "AvRReUK_TR5s",
        "colab_type": "code",
        "outputId": "2c600e33-9ca4-42a4-ffd7-5eaedb108e96",
        "colab": {}
      },
      "source": [
        "from keras.models import Sequential\n",
        "from keras.layers import Dense\n",
        "lr3 = Sequential()\n",
        "lr3.add(Dense(1, input_shape=(1,)))\n",
        "lr3.compile(optimizer='sgd', loss='mean_squared_error',  metrics=['mae','accuracy'])\n",
        "lr3.summary()"
      ],
      "execution_count": 0,
      "outputs": [
        {
          "output_type": "stream",
          "text": [
            "_________________________________________________________________\n",
            "Layer (type)                 Output Shape              Param #   \n",
            "=================================================================\n",
            "dense_16 (Dense)             (None, 1)                 2         \n",
            "=================================================================\n",
            "Total params: 2\n",
            "Trainable params: 2\n",
            "Non-trainable params: 0\n",
            "_________________________________________________________________\n"
          ],
          "name": "stdout"
        }
      ]
    },
    {
      "cell_type": "code",
      "metadata": {
        "id": "K2U6xtoxTR5u",
        "colab_type": "code",
        "outputId": "90690e52-125b-4007-8b0c-3ea22bed1d9c",
        "colab": {}
      },
      "source": [
        "history = lr3.fit(Xtrain, ytrain, epochs=400, batch_size=80)"
      ],
      "execution_count": 0,
      "outputs": [
        {
          "output_type": "stream",
          "text": [
            "Epoch 1/400\n",
            "80/80 [==============================] - 1s 8ms/step - loss: 5361.4824 - mean_absolute_error: 59.8523 - acc: 0.0000e+00\n",
            "Epoch 2/400\n",
            "80/80 [==============================] - 0s 24us/step - loss: 5216.2017 - mean_absolute_error: 59.0328 - acc: 0.0000e+00\n",
            "Epoch 3/400\n",
            "80/80 [==============================] - 0s 24us/step - loss: 5075.1665 - mean_absolute_error: 58.2255 - acc: 0.0000e+00\n",
            "Epoch 4/400\n",
            "80/80 [==============================] - 0s 23us/step - loss: 4938.2520 - mean_absolute_error: 57.4300 - acc: 0.0000e+00\n",
            "Epoch 5/400\n",
            "80/80 [==============================] - 0s 31us/step - loss: 4805.3369 - mean_absolute_error: 56.6463 - acc: 0.0000e+00\n",
            "Epoch 6/400\n",
            "80/80 [==============================] - 0s 22us/step - loss: 4676.3037 - mean_absolute_error: 55.8877 - acc: 0.0000e+00\n",
            "Epoch 7/400\n",
            "80/80 [==============================] - 0s 20us/step - loss: 4551.0400 - mean_absolute_error: 55.1432 - acc: 0.0000e+00\n",
            "Epoch 8/400\n",
            "80/80 [==============================] - 0s 21us/step - loss: 4429.4346 - mean_absolute_error: 54.4204 - acc: 0.0000e+00\n",
            "Epoch 9/400\n",
            "80/80 [==============================] - 0s 19us/step - loss: 4311.3779 - mean_absolute_error: 53.7129 - acc: 0.0000e+00\n",
            "Epoch 10/400\n",
            "80/80 [==============================] - 0s 20us/step - loss: 4196.7686 - mean_absolute_error: 53.0277 - acc: 0.0000e+00\n",
            "Epoch 11/400\n",
            "80/80 [==============================] - 0s 22us/step - loss: 4085.5054 - mean_absolute_error: 52.3527 - acc: 0.0000e+00\n",
            "Epoch 12/400\n",
            "80/80 [==============================] - 0s 21us/step - loss: 3977.4888 - mean_absolute_error: 51.6875 - acc: 0.0000e+00\n",
            "Epoch 13/400\n",
            "80/80 [==============================] - 0s 21us/step - loss: 3872.6238 - mean_absolute_error: 51.0322 - acc: 0.0000e+00\n",
            "Epoch 14/400\n",
            "80/80 [==============================] - 0s 30us/step - loss: 3770.8196 - mean_absolute_error: 50.3865 - acc: 0.0000e+00\n",
            "Epoch 15/400\n",
            "80/80 [==============================] - 0s 23us/step - loss: 3671.9844 - mean_absolute_error: 49.7503 - acc: 0.0000e+00\n",
            "Epoch 16/400\n",
            "80/80 [==============================] - 0s 21us/step - loss: 3576.0332 - mean_absolute_error: 49.1235 - acc: 0.0000e+00\n",
            "Epoch 17/400\n",
            "80/80 [==============================] - 0s 24us/step - loss: 3482.8796 - mean_absolute_error: 48.5060 - acc: 0.0000e+00\n",
            "Epoch 18/400\n",
            "80/80 [==============================] - 0s 29us/step - loss: 3392.4438 - mean_absolute_error: 47.8975 - acc: 0.0000e+00\n",
            "Epoch 19/400\n",
            "80/80 [==============================] - 0s 31us/step - loss: 3304.6440 - mean_absolute_error: 47.2980 - acc: 0.0000e+00\n",
            "Epoch 20/400\n",
            "80/80 [==============================] - 0s 24us/step - loss: 3219.4048 - mean_absolute_error: 46.7073 - acc: 0.0000e+00\n",
            "Epoch 21/400\n",
            "80/80 [==============================] - 0s 28us/step - loss: 3136.6506 - mean_absolute_error: 46.1254 - acc: 0.0000e+00\n",
            "Epoch 22/400\n",
            "80/80 [==============================] - 0s 32us/step - loss: 3056.3083 - mean_absolute_error: 45.5519 - acc: 0.0000e+00\n",
            "Epoch 23/400\n",
            "80/80 [==============================] - 0s 24us/step - loss: 2978.3079 - mean_absolute_error: 44.9870 - acc: 0.0000e+00\n",
            "Epoch 24/400\n",
            "80/80 [==============================] - 0s 28us/step - loss: 2902.5806 - mean_absolute_error: 44.4303 - acc: 0.0000e+00\n",
            "Epoch 25/400\n",
            "80/80 [==============================] - 0s 31us/step - loss: 2829.0598 - mean_absolute_error: 43.8819 - acc: 0.0000e+00\n",
            "Epoch 26/400\n",
            "80/80 [==============================] - 0s 44us/step - loss: 2757.6809 - mean_absolute_error: 43.3415 - acc: 0.0000e+00\n",
            "Epoch 27/400\n",
            "80/80 [==============================] - 0s 23us/step - loss: 2688.3816 - mean_absolute_error: 42.8091 - acc: 0.0000e+00\n",
            "Epoch 28/400\n",
            "80/80 [==============================] - 0s 23us/step - loss: 2621.1013 - mean_absolute_error: 42.2845 - acc: 0.0000e+00\n",
            "Epoch 29/400\n",
            "80/80 [==============================] - 0s 27us/step - loss: 2555.7800 - mean_absolute_error: 41.7676 - acc: 0.0000e+00\n",
            "Epoch 30/400\n",
            "80/80 [==============================] - 0s 25us/step - loss: 2492.3613 - mean_absolute_error: 41.2583 - acc: 0.0000e+00\n",
            "Epoch 31/400\n",
            "80/80 [==============================] - 0s 96us/step - loss: 2430.7896 - mean_absolute_error: 40.7566 - acc: 0.0000e+00\n",
            "Epoch 32/400\n",
            "80/80 [==============================] - 0s 41us/step - loss: 2371.0103 - mean_absolute_error: 40.2622 - acc: 0.0000e+00\n",
            "Epoch 33/400\n",
            "80/80 [==============================] - 0s 62us/step - loss: 2312.9714 - mean_absolute_error: 39.7751 - acc: 0.0000e+00\n",
            "Epoch 34/400\n",
            "80/80 [==============================] - 0s 32us/step - loss: 2256.6223 - mean_absolute_error: 39.2951 - acc: 0.0000e+00\n",
            "Epoch 35/400\n",
            "80/80 [==============================] - 0s 34us/step - loss: 2201.9131 - mean_absolute_error: 38.8222 - acc: 0.0000e+00\n",
            "Epoch 36/400\n",
            "80/80 [==============================] - 0s 22us/step - loss: 2148.7961 - mean_absolute_error: 38.3563 - acc: 0.0000e+00\n",
            "Epoch 37/400\n",
            "80/80 [==============================] - 0s 38us/step - loss: 2097.2253 - mean_absolute_error: 37.8972 - acc: 0.0000e+00\n",
            "Epoch 38/400\n",
            "80/80 [==============================] - 0s 42us/step - loss: 2047.1547 - mean_absolute_error: 37.4449 - acc: 0.0000e+00\n",
            "Epoch 39/400\n",
            "80/80 [==============================] - 0s 25us/step - loss: 1998.5413 - mean_absolute_error: 36.9992 - acc: 0.0000e+00\n",
            "Epoch 40/400\n",
            "80/80 [==============================] - 0s 39us/step - loss: 1951.3420 - mean_absolute_error: 36.5601 - acc: 0.0000e+00\n",
            "Epoch 41/400\n",
            "80/80 [==============================] - 0s 31us/step - loss: 1905.5159 - mean_absolute_error: 36.1274 - acc: 0.0000e+00\n",
            "Epoch 42/400\n",
            "80/80 [==============================] - 0s 30us/step - loss: 1861.0227 - mean_absolute_error: 35.7011 - acc: 0.0000e+00\n",
            "Epoch 43/400\n",
            "80/80 [==============================] - 0s 32us/step - loss: 1817.8236 - mean_absolute_error: 35.2811 - acc: 0.0000e+00\n",
            "Epoch 44/400\n",
            "80/80 [==============================] - 0s 22us/step - loss: 1775.8805 - mean_absolute_error: 34.8672 - acc: 0.0000e+00\n",
            "Epoch 45/400\n",
            "80/80 [==============================] - 0s 22us/step - loss: 1735.1572 - mean_absolute_error: 34.4595 - acc: 0.0000e+00\n",
            "Epoch 46/400\n",
            "80/80 [==============================] - 0s 21us/step - loss: 1695.6179 - mean_absolute_error: 34.0577 - acc: 0.0000e+00\n",
            "Epoch 47/400\n",
            "80/80 [==============================] - 0s 70us/step - loss: 1657.2285 - mean_absolute_error: 33.6618 - acc: 0.0000e+00\n",
            "Epoch 48/400\n",
            "80/80 [==============================] - 0s 48us/step - loss: 1619.9551 - mean_absolute_error: 33.2723 - acc: 0.0000e+00\n",
            "Epoch 49/400\n",
            "80/80 [==============================] - 0s 26us/step - loss: 1583.7650 - mean_absolute_error: 32.8999 - acc: 0.0000e+00\n",
            "Epoch 50/400\n",
            "80/80 [==============================] - 0s 41us/step - loss: 1548.6268 - mean_absolute_error: 32.5330 - acc: 0.0000e+00\n",
            "Epoch 51/400\n",
            "80/80 [==============================] - 0s 35us/step - loss: 1514.5098 - mean_absolute_error: 32.1760 - acc: 0.0000e+00\n",
            "Epoch 52/400\n",
            "80/80 [==============================] - 0s 29us/step - loss: 1481.3845 - mean_absolute_error: 31.8261 - acc: 0.0000e+00\n",
            "Epoch 53/400\n",
            "80/80 [==============================] - 0s 34us/step - loss: 1449.2217 - mean_absolute_error: 31.4813 - acc: 0.0000e+00\n",
            "Epoch 54/400\n",
            "80/80 [==============================] - 0s 53us/step - loss: 1417.9934 - mean_absolute_error: 31.1416 - acc: 0.0000e+00\n",
            "Epoch 55/400\n",
            "80/80 [==============================] - 0s 49us/step - loss: 1387.6721 - mean_absolute_error: 30.8069 - acc: 0.0000e+00\n",
            "Epoch 56/400\n",
            "80/80 [==============================] - 0s 34us/step - loss: 1358.2319 - mean_absolute_error: 30.4770 - acc: 0.0000e+00\n",
            "Epoch 57/400\n",
            "80/80 [==============================] - 0s 41us/step - loss: 1329.6469 - mean_absolute_error: 30.1520 - acc: 0.0000e+00\n",
            "Epoch 58/400\n",
            "80/80 [==============================] - 0s 37us/step - loss: 1301.8922 - mean_absolute_error: 29.8330 - acc: 0.0000e+00\n",
            "Epoch 59/400\n",
            "80/80 [==============================] - 0s 50us/step - loss: 1274.9436 - mean_absolute_error: 29.5247 - acc: 0.0000e+00\n",
            "Epoch 60/400\n",
            "80/80 [==============================] - 0s 25us/step - loss: 1248.7777 - mean_absolute_error: 29.2210 - acc: 0.0000e+00\n",
            "Epoch 61/400\n",
            "80/80 [==============================] - 0s 37us/step - loss: 1223.3716 - mean_absolute_error: 28.9216 - acc: 0.0000e+00\n",
            "Epoch 62/400\n",
            "80/80 [==============================] - 0s 43us/step - loss: 1198.7031 - mean_absolute_error: 28.6266 - acc: 0.0000e+00\n",
            "Epoch 63/400\n",
            "80/80 [==============================] - 0s 37us/step - loss: 1174.7511 - mean_absolute_error: 28.3360 - acc: 0.0000e+00\n",
            "Epoch 64/400\n",
            "80/80 [==============================] - 0s 27us/step - loss: 1151.4945 - mean_absolute_error: 28.0495 - acc: 0.0000e+00\n",
            "Epoch 65/400\n",
            "80/80 [==============================] - 0s 31us/step - loss: 1128.9127 - mean_absolute_error: 27.7673 - acc: 0.0000e+00\n",
            "Epoch 66/400\n",
            "80/80 [==============================] - 0s 33us/step - loss: 1106.9867 - mean_absolute_error: 27.4955 - acc: 0.0000e+00\n",
            "Epoch 67/400\n",
            "80/80 [==============================] - 0s 39us/step - loss: 1085.6970 - mean_absolute_error: 27.2355 - acc: 0.0000e+00\n",
            "Epoch 68/400\n",
            "80/80 [==============================] - 0s 41us/step - loss: 1065.0254 - mean_absolute_error: 26.9793 - acc: 0.0000e+00\n",
            "Epoch 69/400\n",
            "80/80 [==============================] - 0s 30us/step - loss: 1044.9535 - mean_absolute_error: 26.7268 - acc: 0.0000e+00\n",
            "Epoch 70/400\n",
            "80/80 [==============================] - 0s 29us/step - loss: 1025.4642 - mean_absolute_error: 26.4781 - acc: 0.0000e+00\n",
            "Epoch 71/400\n",
            "80/80 [==============================] - 0s 35us/step - loss: 1006.5404 - mean_absolute_error: 26.2329 - acc: 0.0000e+00\n",
            "Epoch 72/400\n",
            "80/80 [==============================] - 0s 31us/step - loss: 988.1658 - mean_absolute_error: 25.9913 - acc: 0.0000e+00\n",
            "Epoch 73/400\n",
            "80/80 [==============================] - 0s 32us/step - loss: 970.3243 - mean_absolute_error: 25.7533 - acc: 0.0000e+00\n",
            "Epoch 74/400\n",
            "80/80 [==============================] - 0s 34us/step - loss: 953.0004 - mean_absolute_error: 25.5187 - acc: 0.0000e+00\n",
            "Epoch 75/400\n",
            "80/80 [==============================] - 0s 25us/step - loss: 936.1791 - mean_absolute_error: 25.2876 - acc: 0.0000e+00\n",
            "Epoch 76/400\n",
            "80/80 [==============================] - 0s 22us/step - loss: 919.8456 - mean_absolute_error: 25.0615 - acc: 0.0000e+00\n",
            "Epoch 77/400\n",
            "80/80 [==============================] - 0s 34us/step - loss: 903.9861 - mean_absolute_error: 24.8401 - acc: 0.0000e+00\n",
            "Epoch 78/400\n",
            "80/80 [==============================] - 0s 35us/step - loss: 888.5863 - mean_absolute_error: 24.6219 - acc: 0.0000e+00\n",
            "Epoch 79/400\n",
            "80/80 [==============================] - 0s 22us/step - loss: 873.6335 - mean_absolute_error: 24.4069 - acc: 0.0000e+00\n",
            "Epoch 80/400\n",
            "80/80 [==============================] - 0s 24us/step - loss: 859.1141 - mean_absolute_error: 24.1950 - acc: 0.0000e+00\n",
            "Epoch 81/400\n",
            "80/80 [==============================] - 0s 30us/step - loss: 845.0158 - mean_absolute_error: 23.9862 - acc: 0.0000e+00\n",
            "Epoch 82/400\n",
            "80/80 [==============================] - 0s 23us/step - loss: 831.3263 - mean_absolute_error: 23.7804 - acc: 0.0000e+00\n",
            "Epoch 83/400\n",
            "80/80 [==============================] - 0s 24us/step - loss: 818.0336 - mean_absolute_error: 23.5835 - acc: 0.0000e+00\n",
            "Epoch 84/400\n",
            "80/80 [==============================] - 0s 20us/step - loss: 805.1266 - mean_absolute_error: 23.4010 - acc: 0.0000e+00\n",
            "Epoch 85/400\n",
            "80/80 [==============================] - 0s 25us/step - loss: 792.5936 - mean_absolute_error: 23.2212 - acc: 0.0000e+00\n",
            "Epoch 86/400\n",
            "80/80 [==============================] - 0s 24us/step - loss: 780.4240 - mean_absolute_error: 23.0440 - acc: 0.0000e+00\n",
            "Epoch 87/400\n",
            "80/80 [==============================] - 0s 47us/step - loss: 768.6071 - mean_absolute_error: 22.8694 - acc: 0.0000e+00\n",
            "Epoch 88/400\n",
            "80/80 [==============================] - 0s 25us/step - loss: 757.1329 - mean_absolute_error: 22.6973 - acc: 0.0000e+00\n",
            "Epoch 89/400\n",
            "80/80 [==============================] - 0s 25us/step - loss: 745.9910 - mean_absolute_error: 22.5277 - acc: 0.0000e+00\n",
            "Epoch 90/400\n",
            "80/80 [==============================] - 0s 75us/step - loss: 735.1722 - mean_absolute_error: 22.3606 - acc: 0.0000e+00\n",
            "Epoch 91/400\n",
            "80/80 [==============================] - 0s 33us/step - loss: 724.6669 - mean_absolute_error: 22.1959 - acc: 0.0000e+00\n",
            "Epoch 92/400\n",
            "80/80 [==============================] - 0s 28us/step - loss: 714.4661 - mean_absolute_error: 22.0337 - acc: 0.0000e+00\n",
            "Epoch 93/400\n",
            "80/80 [==============================] - 0s 61us/step - loss: 704.5609 - mean_absolute_error: 21.8738 - acc: 0.0000e+00\n",
            "Epoch 94/400\n",
            "80/80 [==============================] - 0s 55us/step - loss: 694.9426 - mean_absolute_error: 21.7162 - acc: 0.0000e+00\n",
            "Epoch 95/400\n",
            "80/80 [==============================] - 0s 37us/step - loss: 685.6031 - mean_absolute_error: 21.5627 - acc: 0.0000e+00\n",
            "Epoch 96/400\n",
            "80/80 [==============================] - 0s 29us/step - loss: 676.5342 - mean_absolute_error: 21.4176 - acc: 0.0000e+00\n",
            "Epoch 97/400\n",
            "80/80 [==============================] - 0s 37us/step - loss: 667.7280 - mean_absolute_error: 21.2788 - acc: 0.0000e+00\n",
            "Epoch 98/400\n",
            "80/80 [==============================] - 0s 33us/step - loss: 659.1769 - mean_absolute_error: 21.1420 - acc: 0.0000e+00\n",
            "Epoch 99/400\n",
            "80/80 [==============================] - 0s 29us/step - loss: 650.8737 - mean_absolute_error: 21.0072 - acc: 0.0000e+00\n",
            "Epoch 100/400\n",
            "80/80 [==============================] - 0s 26us/step - loss: 642.8108 - mean_absolute_error: 20.8743 - acc: 0.0000e+00\n",
            "Epoch 101/400\n",
            "80/80 [==============================] - 0s 35us/step - loss: 634.9816 - mean_absolute_error: 20.7434 - acc: 0.0000e+00\n",
            "Epoch 102/400\n",
            "80/80 [==============================] - 0s 38us/step - loss: 627.3790 - mean_absolute_error: 20.6144 - acc: 0.0000e+00\n",
            "Epoch 103/400\n",
            "80/80 [==============================] - 0s 26us/step - loss: 619.9968 - mean_absolute_error: 20.4872 - acc: 0.0000e+00\n",
            "Epoch 104/400\n",
            "80/80 [==============================] - 0s 27us/step - loss: 612.8282 - mean_absolute_error: 20.3667 - acc: 0.0000e+00\n",
            "Epoch 105/400\n",
            "80/80 [==============================] - 0s 34us/step - loss: 605.8673 - mean_absolute_error: 20.2493 - acc: 0.0000e+00\n",
            "Epoch 106/400\n",
            "80/80 [==============================] - 0s 32us/step - loss: 599.1079 - mean_absolute_error: 20.1344 - acc: 0.0000e+00\n",
            "Epoch 107/400\n",
            "80/80 [==============================] - 0s 36us/step - loss: 592.5443 - mean_absolute_error: 20.0236 - acc: 0.0000e+00\n",
            "Epoch 108/400\n",
            "80/80 [==============================] - 0s 50us/step - loss: 586.1708 - mean_absolute_error: 19.9143 - acc: 0.0000e+00\n",
            "Epoch 109/400\n",
            "80/80 [==============================] - 0s 53us/step - loss: 579.9819 - mean_absolute_error: 19.8067 - acc: 0.0000e+00\n",
            "Epoch 110/400\n",
            "80/80 [==============================] - 0s 32us/step - loss: 573.9722 - mean_absolute_error: 19.7006 - acc: 0.0000e+00\n",
            "Epoch 111/400\n",
            "80/80 [==============================] - 0s 31us/step - loss: 568.1364 - mean_absolute_error: 19.5960 - acc: 0.0000e+00\n",
            "Epoch 112/400\n",
            "80/80 [==============================] - 0s 34us/step - loss: 562.4694 - mean_absolute_error: 19.4929 - acc: 0.0000e+00\n",
            "Epoch 113/400\n",
            "80/80 [==============================] - 0s 31us/step - loss: 556.9667 - mean_absolute_error: 19.3913 - acc: 0.0000e+00\n",
            "Epoch 114/400\n",
            "80/80 [==============================] - 0s 27us/step - loss: 551.6233 - mean_absolute_error: 19.2912 - acc: 0.0000e+00\n",
            "Epoch 115/400\n",
            "80/80 [==============================] - 0s 21us/step - loss: 546.4344 - mean_absolute_error: 19.1925 - acc: 0.0000e+00\n",
            "Epoch 116/400\n",
            "80/80 [==============================] - 0s 23us/step - loss: 541.3959 - mean_absolute_error: 19.0953 - acc: 0.0000e+00\n",
            "Epoch 117/400\n",
            "80/80 [==============================] - 0s 37us/step - loss: 536.5031 - mean_absolute_error: 19.0072 - acc: 0.0000e+00\n",
            "Epoch 118/400\n",
            "80/80 [==============================] - 0s 25us/step - loss: 531.7518 - mean_absolute_error: 18.9220 - acc: 0.0000e+00\n",
            "Epoch 119/400\n",
            "80/80 [==============================] - 0s 21us/step - loss: 527.1381 - mean_absolute_error: 18.8381 - acc: 0.0000e+00\n",
            "Epoch 120/400\n",
            "80/80 [==============================] - 0s 49us/step - loss: 522.6578 - mean_absolute_error: 18.7590 - acc: 0.0000e+00\n",
            "Epoch 121/400\n",
            "80/80 [==============================] - 0s 37us/step - loss: 518.3074 - mean_absolute_error: 18.6850 - acc: 0.0000e+00\n",
            "Epoch 122/400\n",
            "80/80 [==============================] - 0s 40us/step - loss: 514.0828 - mean_absolute_error: 18.6121 - acc: 0.0000e+00\n",
            "Epoch 123/400\n",
            "80/80 [==============================] - 0s 29us/step - loss: 509.9805 - mean_absolute_error: 18.5402 - acc: 0.0000e+00\n",
            "Epoch 124/400\n",
            "80/80 [==============================] - 0s 33us/step - loss: 505.9968 - mean_absolute_error: 18.4694 - acc: 0.0000e+00\n",
            "Epoch 125/400\n",
            "80/80 [==============================] - 0s 33us/step - loss: 502.1284 - mean_absolute_error: 18.4050 - acc: 0.0000e+00\n",
            "Epoch 126/400\n",
            "80/80 [==============================] - 0s 23us/step - loss: 498.3719 - mean_absolute_error: 18.3420 - acc: 0.0000e+00\n",
            "Epoch 127/400\n",
            "80/80 [==============================] - 0s 31us/step - loss: 494.7242 - mean_absolute_error: 18.2800 - acc: 0.0000e+00\n",
            "Epoch 128/400\n",
            "80/80 [==============================] - 0s 37us/step - loss: 491.1820 - mean_absolute_error: 18.2189 - acc: 0.0000e+00\n",
            "Epoch 129/400\n",
            "80/80 [==============================] - 0s 30us/step - loss: 487.7423 - mean_absolute_error: 18.1586 - acc: 0.0000e+00\n",
            "Epoch 130/400\n",
            "80/80 [==============================] - 0s 28us/step - loss: 484.4020 - mean_absolute_error: 18.0993 - acc: 0.0000e+00\n",
            "Epoch 131/400\n",
            "80/80 [==============================] - 0s 24us/step - loss: 481.1585 - mean_absolute_error: 18.0408 - acc: 0.0000e+00\n",
            "Epoch 132/400\n",
            "80/80 [==============================] - 0s 48us/step - loss: 478.0087 - mean_absolute_error: 17.9831 - acc: 0.0000e+00\n",
            "Epoch 133/400\n",
            "80/80 [==============================] - 0s 31us/step - loss: 474.9500 - mean_absolute_error: 17.9263 - acc: 0.0000e+00\n",
            "Epoch 134/400\n",
            "80/80 [==============================] - 0s 43us/step - loss: 471.9799 - mean_absolute_error: 17.8703 - acc: 0.0000e+00\n",
            "Epoch 135/400\n",
            "80/80 [==============================] - 0s 31us/step - loss: 469.0956 - mean_absolute_error: 17.8152 - acc: 0.0000e+00\n",
            "Epoch 136/400\n",
            "80/80 [==============================] - 0s 46us/step - loss: 466.2947 - mean_absolute_error: 17.7608 - acc: 0.0000e+00\n",
            "Epoch 137/400\n",
            "80/80 [==============================] - 0s 31us/step - loss: 463.5749 - mean_absolute_error: 17.7072 - acc: 0.0000e+00\n",
            "Epoch 138/400\n",
            "80/80 [==============================] - 0s 26us/step - loss: 460.9336 - mean_absolute_error: 17.6544 - acc: 0.0000e+00\n",
            "Epoch 139/400\n",
            "80/80 [==============================] - 0s 78us/step - loss: 458.3689 - mean_absolute_error: 17.6070 - acc: 0.0000e+00\n",
            "Epoch 140/400\n",
            "80/80 [==============================] - 0s 54us/step - loss: 455.8783 - mean_absolute_error: 17.5605 - acc: 0.0000e+00\n",
            "Epoch 141/400\n",
            "80/80 [==============================] - 0s 27us/step - loss: 453.4597 - mean_absolute_error: 17.5147 - acc: 0.0000e+00\n",
            "Epoch 142/400\n",
            "80/80 [==============================] - 0s 93us/step - loss: 451.1110 - mean_absolute_error: 17.4696 - acc: 0.0000e+00\n",
            "Epoch 143/400\n",
            "80/80 [==============================] - 0s 30us/step - loss: 448.8303 - mean_absolute_error: 17.4251 - acc: 0.0000e+00\n",
            "Epoch 144/400\n",
            "80/80 [==============================] - 0s 367us/step - loss: 446.6155 - mean_absolute_error: 17.3813 - acc: 0.0000e+00\n",
            "Epoch 145/400\n",
            "80/80 [==============================] - 0s 212us/step - loss: 444.4648 - mean_absolute_error: 17.3426 - acc: 0.0000e+00\n",
            "Epoch 146/400\n",
            "80/80 [==============================] - 0s 26us/step - loss: 442.3763 - mean_absolute_error: 17.3054 - acc: 0.0000e+00\n",
            "Epoch 147/400\n",
            "80/80 [==============================] - 0s 41us/step - loss: 440.3481 - mean_absolute_error: 17.2688 - acc: 0.0000e+00\n",
            "Epoch 148/400\n",
            "80/80 [==============================] - 0s 34us/step - loss: 438.3787 - mean_absolute_error: 17.2327 - acc: 0.0000e+00\n",
            "Epoch 149/400\n",
            "80/80 [==============================] - 0s 185us/step - loss: 436.4661 - mean_absolute_error: 17.2007 - acc: 0.0000e+00\n",
            "Epoch 150/400\n",
            "80/80 [==============================] - 0s 45us/step - loss: 434.6089 - mean_absolute_error: 17.1698 - acc: 0.0000e+00\n",
            "Epoch 151/400\n",
            "80/80 [==============================] - 0s 57us/step - loss: 432.8053 - mean_absolute_error: 17.1393 - acc: 0.0000e+00\n",
            "Epoch 152/400\n",
            "80/80 [==============================] - 0s 33us/step - loss: 431.0538 - mean_absolute_error: 17.1093 - acc: 0.0000e+00\n",
            "Epoch 153/400\n",
            "80/80 [==============================] - 0s 68us/step - loss: 429.3530 - mean_absolute_error: 17.0798 - acc: 0.0000e+00\n",
            "Epoch 154/400\n",
            "80/80 [==============================] - 0s 48us/step - loss: 427.7014 - mean_absolute_error: 17.0506 - acc: 0.0000e+00\n",
            "Epoch 155/400\n",
            "80/80 [==============================] - 0s 36us/step - loss: 426.0975 - mean_absolute_error: 17.0219 - acc: 0.0000e+00\n",
            "Epoch 156/400\n",
            "80/80 [==============================] - 0s 60us/step - loss: 424.5399 - mean_absolute_error: 16.9936 - acc: 0.0000e+00\n",
            "Epoch 157/400\n",
            "80/80 [==============================] - 0s 34us/step - loss: 423.0274 - mean_absolute_error: 16.9657 - acc: 0.0000e+00\n",
            "Epoch 158/400\n",
            "80/80 [==============================] - 0s 32us/step - loss: 421.5586 - mean_absolute_error: 16.9382 - acc: 0.0000e+00\n",
            "Epoch 159/400\n",
            "80/80 [==============================] - 0s 50us/step - loss: 420.1322 - mean_absolute_error: 16.9111 - acc: 0.0000e+00\n",
            "Epoch 160/400\n",
            "80/80 [==============================] - 0s 50us/step - loss: 418.7470 - mean_absolute_error: 16.8844 - acc: 0.0000e+00\n",
            "Epoch 161/400\n",
            "80/80 [==============================] - 0s 48us/step - loss: 417.4020 - mean_absolute_error: 16.8581 - acc: 0.0000e+00\n",
            "Epoch 162/400\n",
            "80/80 [==============================] - 0s 44us/step - loss: 416.0957 - mean_absolute_error: 16.8322 - acc: 0.0000e+00\n",
            "Epoch 163/400\n",
            "80/80 [==============================] - 0s 52us/step - loss: 414.8272 - mean_absolute_error: 16.8074 - acc: 0.0000e+00\n",
            "Epoch 164/400\n",
            "80/80 [==============================] - 0s 47us/step - loss: 413.5954 - mean_absolute_error: 16.7844 - acc: 0.0000e+00\n",
            "Epoch 165/400\n",
            "80/80 [==============================] - 0s 48us/step - loss: 412.3992 - mean_absolute_error: 16.7617 - acc: 0.0000e+00\n",
            "Epoch 166/400\n",
            "80/80 [==============================] - 0s 55us/step - loss: 411.2375 - mean_absolute_error: 16.7393 - acc: 0.0000e+00\n",
            "Epoch 167/400\n",
            "80/80 [==============================] - 0s 37us/step - loss: 410.1095 - mean_absolute_error: 16.7185 - acc: 0.0000e+00\n",
            "Epoch 168/400\n",
            "80/80 [==============================] - 0s 65us/step - loss: 409.0140 - mean_absolute_error: 16.7000 - acc: 0.0000e+00\n",
            "Epoch 169/400\n",
            "80/80 [==============================] - 0s 26us/step - loss: 407.9501 - mean_absolute_error: 16.6837 - acc: 0.0000e+00\n",
            "Epoch 170/400\n",
            "80/80 [==============================] - 0s 23us/step - loss: 406.9170 - mean_absolute_error: 16.6678 - acc: 0.0000e+00\n",
            "Epoch 171/400\n",
            "80/80 [==============================] - 0s 39us/step - loss: 405.9138 - mean_absolute_error: 16.6520 - acc: 0.0000e+00\n",
            "Epoch 172/400\n",
            "80/80 [==============================] - 0s 40us/step - loss: 404.9395 - mean_absolute_error: 16.6372 - acc: 0.0000e+00\n",
            "Epoch 173/400\n",
            "80/80 [==============================] - 0s 26us/step - loss: 403.9934 - mean_absolute_error: 16.6239 - acc: 0.0000e+00\n",
            "Epoch 174/400\n",
            "80/80 [==============================] - 0s 31us/step - loss: 403.0746 - mean_absolute_error: 16.6108 - acc: 0.0000e+00\n",
            "Epoch 175/400\n",
            "80/80 [==============================] - 0s 39us/step - loss: 402.1824 - mean_absolute_error: 16.5978 - acc: 0.0000e+00\n",
            "Epoch 176/400\n",
            "80/80 [==============================] - 0s 35us/step - loss: 401.3160 - mean_absolute_error: 16.5851 - acc: 0.0000e+00\n",
            "Epoch 177/400\n",
            "80/80 [==============================] - 0s 35us/step - loss: 400.4745 - mean_absolute_error: 16.5726 - acc: 0.0000e+00\n",
            "Epoch 178/400\n",
            "80/80 [==============================] - 0s 34us/step - loss: 399.6574 - mean_absolute_error: 16.5602 - acc: 0.0000e+00\n",
            "Epoch 179/400\n",
            "80/80 [==============================] - 0s 30us/step - loss: 398.8640 - mean_absolute_error: 16.5480 - acc: 0.0000e+00\n",
            "Epoch 180/400\n",
            "80/80 [==============================] - 0s 36us/step - loss: 398.0934 - mean_absolute_error: 16.5360 - acc: 0.0000e+00\n",
            "Epoch 181/400\n",
            "80/80 [==============================] - 0s 30us/step - loss: 397.3450 - mean_absolute_error: 16.5242 - acc: 0.0000e+00\n",
            "Epoch 182/400\n",
            "80/80 [==============================] - 0s 30us/step - loss: 396.6183 - mean_absolute_error: 16.5126 - acc: 0.0000e+00\n",
            "Epoch 183/400\n",
            "80/80 [==============================] - 0s 33us/step - loss: 395.9126 - mean_absolute_error: 16.5011 - acc: 0.0000e+00\n",
            "Epoch 184/400\n",
            "80/80 [==============================] - 0s 33us/step - loss: 395.2273 - mean_absolute_error: 16.4898 - acc: 0.0000e+00\n",
            "Epoch 185/400\n",
            "80/80 [==============================] - 0s 46us/step - loss: 394.5618 - mean_absolute_error: 16.4786 - acc: 0.0000e+00\n",
            "Epoch 186/400\n",
            "80/80 [==============================] - 0s 34us/step - loss: 393.9155 - mean_absolute_error: 16.4677 - acc: 0.0000e+00\n",
            "Epoch 187/400\n",
            "80/80 [==============================] - 0s 43us/step - loss: 393.2879 - mean_absolute_error: 16.4568 - acc: 0.0000e+00\n",
            "Epoch 188/400\n",
            "80/80 [==============================] - 0s 28us/step - loss: 392.6784 - mean_absolute_error: 16.4462 - acc: 0.0000e+00\n",
            "Epoch 189/400\n",
            "80/80 [==============================] - 0s 38us/step - loss: 392.0865 - mean_absolute_error: 16.4357 - acc: 0.0000e+00\n",
            "Epoch 190/400\n",
            "80/80 [==============================] - 0s 75us/step - loss: 391.5117 - mean_absolute_error: 16.4253 - acc: 0.0000e+00\n",
            "Epoch 191/400\n",
            "80/80 [==============================] - 0s 49us/step - loss: 390.9534 - mean_absolute_error: 16.4151 - acc: 0.0000e+00\n",
            "Epoch 192/400\n",
            "80/80 [==============================] - 0s 50us/step - loss: 390.4113 - mean_absolute_error: 16.4051 - acc: 0.0000e+00\n",
            "Epoch 193/400\n",
            "80/80 [==============================] - 0s 27us/step - loss: 389.8849 - mean_absolute_error: 16.3952 - acc: 0.0000e+00\n",
            "Epoch 194/400\n",
            "80/80 [==============================] - 0s 29us/step - loss: 389.3737 - mean_absolute_error: 16.3854 - acc: 0.0000e+00\n",
            "Epoch 195/400\n",
            "80/80 [==============================] - 0s 35us/step - loss: 388.8773 - mean_absolute_error: 16.3758 - acc: 0.0000e+00\n",
            "Epoch 196/400\n",
            "80/80 [==============================] - 0s 28us/step - loss: 388.3951 - mean_absolute_error: 16.3664 - acc: 0.0000e+00\n",
            "Epoch 197/400\n",
            "80/80 [==============================] - 0s 38us/step - loss: 387.9269 - mean_absolute_error: 16.3570 - acc: 0.0000e+00\n",
            "Epoch 198/400\n",
            "80/80 [==============================] - 0s 29us/step - loss: 387.4723 - mean_absolute_error: 16.3478 - acc: 0.0000e+00\n",
            "Epoch 199/400\n",
            "80/80 [==============================] - 0s 49us/step - loss: 387.0308 - mean_absolute_error: 16.3388 - acc: 0.0000e+00\n",
            "Epoch 200/400\n",
            "80/80 [==============================] - 0s 39us/step - loss: 386.6020 - mean_absolute_error: 16.3299 - acc: 0.0000e+00\n",
            "Epoch 201/400\n",
            "80/80 [==============================] - 0s 35us/step - loss: 386.1856 - mean_absolute_error: 16.3218 - acc: 0.0000e+00\n",
            "Epoch 202/400\n",
            "80/80 [==============================] - 0s 106us/step - loss: 385.7812 - mean_absolute_error: 16.3151 - acc: 0.0000e+00\n",
            "Epoch 203/400\n",
            "80/80 [==============================] - 0s 57us/step - loss: 385.3885 - mean_absolute_error: 16.3084 - acc: 0.0000e+00\n",
            "Epoch 204/400\n",
            "80/80 [==============================] - 0s 38us/step - loss: 385.0071 - mean_absolute_error: 16.3019 - acc: 0.0000e+00\n",
            "Epoch 205/400\n",
            "80/80 [==============================] - 0s 27us/step - loss: 384.6367 - mean_absolute_error: 16.2966 - acc: 0.0000e+00\n",
            "Epoch 206/400\n",
            "80/80 [==============================] - 0s 46us/step - loss: 384.2770 - mean_absolute_error: 16.2916 - acc: 0.0000e+00\n",
            "Epoch 207/400\n",
            "80/80 [==============================] - 0s 31us/step - loss: 383.9278 - mean_absolute_error: 16.2868 - acc: 0.0000e+00\n",
            "Epoch 208/400\n",
            "80/80 [==============================] - 0s 49us/step - loss: 383.5886 - mean_absolute_error: 16.2820 - acc: 0.0000e+00\n",
            "Epoch 209/400\n",
            "80/80 [==============================] - 0s 59us/step - loss: 383.2592 - mean_absolute_error: 16.2772 - acc: 0.0000e+00\n",
            "Epoch 210/400\n",
            "80/80 [==============================] - 0s 31us/step - loss: 382.9393 - mean_absolute_error: 16.2726 - acc: 0.0000e+00\n",
            "Epoch 211/400\n",
            "80/80 [==============================] - 0s 31us/step - loss: 382.6286 - mean_absolute_error: 16.2680 - acc: 0.0000e+00\n",
            "Epoch 212/400\n",
            "80/80 [==============================] - 0s 40us/step - loss: 382.3270 - mean_absolute_error: 16.2635 - acc: 0.0000e+00\n",
            "Epoch 213/400\n",
            "80/80 [==============================] - 0s 148us/step - loss: 382.0340 - mean_absolute_error: 16.2590 - acc: 0.0000e+00\n",
            "Epoch 214/400\n",
            "80/80 [==============================] - 0s 39us/step - loss: 381.7495 - mean_absolute_error: 16.2546 - acc: 0.0000e+00\n",
            "Epoch 215/400\n",
            "80/80 [==============================] - 0s 46us/step - loss: 381.4732 - mean_absolute_error: 16.2503 - acc: 0.0000e+00\n",
            "Epoch 216/400\n",
            "80/80 [==============================] - 0s 41us/step - loss: 381.2049 - mean_absolute_error: 16.2460 - acc: 0.0000e+00\n",
            "Epoch 217/400\n",
            "80/80 [==============================] - 0s 31us/step - loss: 380.9442 - mean_absolute_error: 16.2418 - acc: 0.0000e+00\n",
            "Epoch 218/400\n",
            "80/80 [==============================] - 0s 21us/step - loss: 380.6913 - mean_absolute_error: 16.2376 - acc: 0.0000e+00\n",
            "Epoch 219/400\n",
            "80/80 [==============================] - 0s 24us/step - loss: 380.4455 - mean_absolute_error: 16.2335 - acc: 0.0000e+00\n",
            "Epoch 220/400\n",
            "80/80 [==============================] - 0s 29us/step - loss: 380.2069 - mean_absolute_error: 16.2295 - acc: 0.0000e+00\n",
            "Epoch 221/400\n",
            "80/80 [==============================] - 0s 29us/step - loss: 379.9751 - mean_absolute_error: 16.2255 - acc: 0.0000e+00\n",
            "Epoch 222/400\n",
            "80/80 [==============================] - 0s 45us/step - loss: 379.7500 - mean_absolute_error: 16.2216 - acc: 0.0000e+00\n",
            "Epoch 223/400\n",
            "80/80 [==============================] - 0s 25us/step - loss: 379.5314 - mean_absolute_error: 16.2178 - acc: 0.0000e+00\n",
            "Epoch 224/400\n",
            "80/80 [==============================] - 0s 24us/step - loss: 379.3192 - mean_absolute_error: 16.2140 - acc: 0.0000e+00\n",
            "Epoch 225/400\n",
            "80/80 [==============================] - 0s 53us/step - loss: 379.1130 - mean_absolute_error: 16.2102 - acc: 0.0000e+00\n",
            "Epoch 226/400\n",
            "80/80 [==============================] - 0s 40us/step - loss: 378.9128 - mean_absolute_error: 16.2065 - acc: 0.0000e+00\n",
            "Epoch 227/400\n",
            "80/80 [==============================] - 0s 46us/step - loss: 378.7184 - mean_absolute_error: 16.2029 - acc: 0.0000e+00\n",
            "Epoch 228/400\n",
            "80/80 [==============================] - 0s 42us/step - loss: 378.5296 - mean_absolute_error: 16.1993 - acc: 0.0000e+00\n",
            "Epoch 229/400\n",
            "80/80 [==============================] - 0s 25us/step - loss: 378.3463 - mean_absolute_error: 16.1958 - acc: 0.0000e+00\n",
            "Epoch 230/400\n",
            "80/80 [==============================] - 0s 28us/step - loss: 378.1682 - mean_absolute_error: 16.1923 - acc: 0.0000e+00\n",
            "Epoch 231/400\n",
            "80/80 [==============================] - 0s 25us/step - loss: 377.9953 - mean_absolute_error: 16.1889 - acc: 0.0000e+00\n",
            "Epoch 232/400\n",
            "80/80 [==============================] - 0s 35us/step - loss: 377.8274 - mean_absolute_error: 16.1855 - acc: 0.0000e+00\n",
            "Epoch 233/400\n",
            "80/80 [==============================] - 0s 38us/step - loss: 377.6643 - mean_absolute_error: 16.1821 - acc: 0.0000e+00\n",
            "Epoch 234/400\n",
            "80/80 [==============================] - 0s 161us/step - loss: 377.5059 - mean_absolute_error: 16.1788 - acc: 0.0000e+00\n",
            "Epoch 235/400\n",
            "80/80 [==============================] - 0s 56us/step - loss: 377.3521 - mean_absolute_error: 16.1756 - acc: 0.0000e+00\n",
            "Epoch 236/400\n",
            "80/80 [==============================] - 0s 25us/step - loss: 377.2028 - mean_absolute_error: 16.1724 - acc: 0.0000e+00\n",
            "Epoch 237/400\n",
            "80/80 [==============================] - 0s 29us/step - loss: 377.0577 - mean_absolute_error: 16.1693 - acc: 0.0000e+00\n",
            "Epoch 238/400\n",
            "80/80 [==============================] - 0s 71us/step - loss: 376.9168 - mean_absolute_error: 16.1662 - acc: 0.0000e+00\n",
            "Epoch 239/400\n",
            "80/80 [==============================] - 0s 39us/step - loss: 376.7800 - mean_absolute_error: 16.1631 - acc: 0.0000e+00\n",
            "Epoch 240/400\n",
            "80/80 [==============================] - 0s 28us/step - loss: 376.6472 - mean_absolute_error: 16.1601 - acc: 0.0000e+00\n",
            "Epoch 241/400\n",
            "80/80 [==============================] - 0s 82us/step - loss: 376.5182 - mean_absolute_error: 16.1580 - acc: 0.0000e+00\n",
            "Epoch 242/400\n",
            "80/80 [==============================] - 0s 57us/step - loss: 376.3929 - mean_absolute_error: 16.1563 - acc: 0.0000e+00\n",
            "Epoch 243/400\n",
            "80/80 [==============================] - 0s 54us/step - loss: 376.2712 - mean_absolute_error: 16.1546 - acc: 0.0000e+00\n",
            "Epoch 244/400\n",
            "80/80 [==============================] - 0s 40us/step - loss: 376.1531 - mean_absolute_error: 16.1530 - acc: 0.0000e+00\n",
            "Epoch 245/400\n",
            "80/80 [==============================] - 0s 33us/step - loss: 376.0383 - mean_absolute_error: 16.1513 - acc: 0.0000e+00\n",
            "Epoch 246/400\n",
            "80/80 [==============================] - 0s 76us/step - loss: 375.9269 - mean_absolute_error: 16.1497 - acc: 0.0000e+00\n",
            "Epoch 247/400\n",
            "80/80 [==============================] - 0s 35us/step - loss: 375.8187 - mean_absolute_error: 16.1481 - acc: 0.0000e+00\n",
            "Epoch 248/400\n",
            "80/80 [==============================] - 0s 41us/step - loss: 375.7136 - mean_absolute_error: 16.1465 - acc: 0.0000e+00\n",
            "Epoch 249/400\n",
            "80/80 [==============================] - 0s 37us/step - loss: 375.6115 - mean_absolute_error: 16.1450 - acc: 0.0000e+00\n",
            "Epoch 250/400\n",
            "80/80 [==============================] - 0s 59us/step - loss: 375.5124 - mean_absolute_error: 16.1434 - acc: 0.0000e+00\n",
            "Epoch 251/400\n",
            "80/80 [==============================] - 0s 51us/step - loss: 375.4161 - mean_absolute_error: 16.1419 - acc: 0.0000e+00\n",
            "Epoch 252/400\n",
            "80/80 [==============================] - 0s 28us/step - loss: 375.3226 - mean_absolute_error: 16.1405 - acc: 0.0000e+00\n",
            "Epoch 253/400\n",
            "80/80 [==============================] - 0s 59us/step - loss: 375.2318 - mean_absolute_error: 16.1390 - acc: 0.0000e+00\n",
            "Epoch 254/400\n",
            "80/80 [==============================] - 0s 41us/step - loss: 375.1436 - mean_absolute_error: 16.1375 - acc: 0.0000e+00\n",
            "Epoch 255/400\n",
            "80/80 [==============================] - 0s 58us/step - loss: 375.0580 - mean_absolute_error: 16.1361 - acc: 0.0000e+00\n",
            "Epoch 256/400\n",
            "80/80 [==============================] - 0s 49us/step - loss: 374.9749 - mean_absolute_error: 16.1347 - acc: 0.0000e+00\n",
            "Epoch 257/400\n",
            "80/80 [==============================] - 0s 46us/step - loss: 374.8941 - mean_absolute_error: 16.1333 - acc: 0.0000e+00\n",
            "Epoch 258/400\n",
            "80/80 [==============================] - 0s 47us/step - loss: 374.8157 - mean_absolute_error: 16.1320 - acc: 0.0000e+00\n",
            "Epoch 259/400\n",
            "80/80 [==============================] - 0s 43us/step - loss: 374.7396 - mean_absolute_error: 16.1306 - acc: 0.0000e+00\n",
            "Epoch 260/400\n",
            "80/80 [==============================] - 0s 45us/step - loss: 374.6656 - mean_absolute_error: 16.1293 - acc: 0.0000e+00\n",
            "Epoch 261/400\n",
            "80/80 [==============================] - 0s 55us/step - loss: 374.5938 - mean_absolute_error: 16.1280 - acc: 0.0000e+00\n",
            "Epoch 262/400\n",
            "80/80 [==============================] - 0s 23us/step - loss: 374.5240 - mean_absolute_error: 16.1267 - acc: 0.0000e+00\n",
            "Epoch 263/400\n",
            "80/80 [==============================] - 0s 25us/step - loss: 374.4563 - mean_absolute_error: 16.1255 - acc: 0.0000e+00\n",
            "Epoch 264/400\n",
            "80/80 [==============================] - 0s 24us/step - loss: 374.3905 - mean_absolute_error: 16.1242 - acc: 0.0000e+00\n",
            "Epoch 265/400\n",
            "80/80 [==============================] - 0s 24us/step - loss: 374.3266 - mean_absolute_error: 16.1230 - acc: 0.0000e+00\n",
            "Epoch 266/400\n",
            "80/80 [==============================] - 0s 31us/step - loss: 374.2646 - mean_absolute_error: 16.1218 - acc: 0.0000e+00\n",
            "Epoch 267/400\n",
            "80/80 [==============================] - 0s 24us/step - loss: 374.2043 - mean_absolute_error: 16.1206 - acc: 0.0000e+00\n",
            "Epoch 268/400\n",
            "80/80 [==============================] - 0s 31us/step - loss: 374.1458 - mean_absolute_error: 16.1194 - acc: 0.0000e+00\n",
            "Epoch 269/400\n",
            "80/80 [==============================] - 0s 26us/step - loss: 374.0890 - mean_absolute_error: 16.1183 - acc: 0.0000e+00\n",
            "Epoch 270/400\n",
            "80/80 [==============================] - 0s 26us/step - loss: 374.0338 - mean_absolute_error: 16.1171 - acc: 0.0000e+00\n",
            "Epoch 271/400\n",
            "80/80 [==============================] - 0s 36us/step - loss: 373.9802 - mean_absolute_error: 16.1160 - acc: 0.0000e+00\n",
            "Epoch 272/400\n",
            "80/80 [==============================] - 0s 26us/step - loss: 373.9282 - mean_absolute_error: 16.1149 - acc: 0.0000e+00\n",
            "Epoch 273/400\n",
            "80/80 [==============================] - 0s 33us/step - loss: 373.8776 - mean_absolute_error: 16.1138 - acc: 0.0000e+00\n",
            "Epoch 274/400\n",
            "80/80 [==============================] - 0s 25us/step - loss: 373.8286 - mean_absolute_error: 16.1127 - acc: 0.0000e+00\n",
            "Epoch 275/400\n",
            "80/80 [==============================] - 0s 71us/step - loss: 373.7809 - mean_absolute_error: 16.1117 - acc: 0.0000e+00\n",
            "Epoch 276/400\n",
            "80/80 [==============================] - 0s 35us/step - loss: 373.7346 - mean_absolute_error: 16.1106 - acc: 0.0000e+00\n",
            "Epoch 277/400\n",
            "80/80 [==============================] - 0s 154us/step - loss: 373.6896 - mean_absolute_error: 16.1096 - acc: 0.0000e+00\n",
            "Epoch 278/400\n",
            "80/80 [==============================] - 0s 63us/step - loss: 373.6459 - mean_absolute_error: 16.1086 - acc: 0.0000e+00\n",
            "Epoch 279/400\n",
            "80/80 [==============================] - 0s 25us/step - loss: 373.6035 - mean_absolute_error: 16.1076 - acc: 0.0000e+00\n",
            "Epoch 280/400\n",
            "80/80 [==============================] - 0s 22us/step - loss: 373.5624 - mean_absolute_error: 16.1066 - acc: 0.0000e+00\n",
            "Epoch 281/400\n",
            "80/80 [==============================] - 0s 42us/step - loss: 373.5224 - mean_absolute_error: 16.1057 - acc: 0.0000e+00\n",
            "Epoch 282/400\n",
            "80/80 [==============================] - 0s 23us/step - loss: 373.4836 - mean_absolute_error: 16.1053 - acc: 0.0000e+00\n",
            "Epoch 283/400\n",
            "80/80 [==============================] - 0s 44us/step - loss: 373.4458 - mean_absolute_error: 16.1049 - acc: 0.0000e+00\n",
            "Epoch 284/400\n",
            "80/80 [==============================] - 0s 67us/step - loss: 373.4092 - mean_absolute_error: 16.1044 - acc: 0.0000e+00\n",
            "Epoch 285/400\n",
            "80/80 [==============================] - 0s 49us/step - loss: 373.3737 - mean_absolute_error: 16.1040 - acc: 0.0000e+00\n",
            "Epoch 286/400\n",
            "80/80 [==============================] - 0s 197us/step - loss: 373.3391 - mean_absolute_error: 16.1036 - acc: 0.0000e+00\n",
            "Epoch 287/400\n",
            "80/80 [==============================] - 0s 51us/step - loss: 373.3055 - mean_absolute_error: 16.1032 - acc: 0.0000e+00\n",
            "Epoch 288/400\n",
            "80/80 [==============================] - 0s 216us/step - loss: 373.2730 - mean_absolute_error: 16.1027 - acc: 0.0000e+00\n",
            "Epoch 289/400\n",
            "80/80 [==============================] - 0s 81us/step - loss: 373.2414 - mean_absolute_error: 16.1023 - acc: 0.0000e+00\n",
            "Epoch 290/400\n",
            "80/80 [==============================] - 0s 242us/step - loss: 373.2106 - mean_absolute_error: 16.1019 - acc: 0.0000e+00\n",
            "Epoch 291/400\n",
            "80/80 [==============================] - 0s 65us/step - loss: 373.1808 - mean_absolute_error: 16.1016 - acc: 0.0000e+00\n",
            "Epoch 292/400\n",
            "80/80 [==============================] - 0s 25us/step - loss: 373.1518 - mean_absolute_error: 16.1012 - acc: 0.0000e+00\n",
            "Epoch 293/400\n",
            "80/80 [==============================] - 0s 36us/step - loss: 373.1236 - mean_absolute_error: 16.1008 - acc: 0.0000e+00\n",
            "Epoch 294/400\n",
            "80/80 [==============================] - 0s 61us/step - loss: 373.0963 - mean_absolute_error: 16.1004 - acc: 0.0000e+00\n",
            "Epoch 295/400\n",
            "80/80 [==============================] - 0s 27us/step - loss: 373.0698 - mean_absolute_error: 16.1000 - acc: 0.0000e+00\n",
            "Epoch 296/400\n",
            "80/80 [==============================] - 0s 83us/step - loss: 373.0440 - mean_absolute_error: 16.0997 - acc: 0.0000e+00\n",
            "Epoch 297/400\n",
            "80/80 [==============================] - 0s 44us/step - loss: 373.0190 - mean_absolute_error: 16.0993 - acc: 0.0000e+00\n",
            "Epoch 298/400\n",
            "80/80 [==============================] - 0s 29us/step - loss: 372.9947 - mean_absolute_error: 16.0990 - acc: 0.0000e+00\n",
            "Epoch 299/400\n",
            "80/80 [==============================] - 0s 31us/step - loss: 372.9710 - mean_absolute_error: 16.0986 - acc: 0.0000e+00\n",
            "Epoch 300/400\n",
            "80/80 [==============================] - 0s 32us/step - loss: 372.9481 - mean_absolute_error: 16.0983 - acc: 0.0000e+00\n",
            "Epoch 301/400\n",
            "80/80 [==============================] - 0s 36us/step - loss: 372.9258 - mean_absolute_error: 16.0979 - acc: 0.0000e+00\n",
            "Epoch 302/400\n",
            "80/80 [==============================] - 0s 32us/step - loss: 372.9042 - mean_absolute_error: 16.0976 - acc: 0.0000e+00\n",
            "Epoch 303/400\n",
            "80/80 [==============================] - 0s 40us/step - loss: 372.8832 - mean_absolute_error: 16.0973 - acc: 0.0000e+00\n",
            "Epoch 304/400\n",
            "80/80 [==============================] - 0s 37us/step - loss: 372.8628 - mean_absolute_error: 16.0969 - acc: 0.0000e+00\n",
            "Epoch 305/400\n",
            "80/80 [==============================] - 0s 41us/step - loss: 372.8430 - mean_absolute_error: 16.0966 - acc: 0.0000e+00\n",
            "Epoch 306/400\n",
            "80/80 [==============================] - 0s 43us/step - loss: 372.8237 - mean_absolute_error: 16.0963 - acc: 0.0000e+00\n",
            "Epoch 307/400\n",
            "80/80 [==============================] - 0s 29us/step - loss: 372.8050 - mean_absolute_error: 16.0960 - acc: 0.0000e+00\n",
            "Epoch 308/400\n",
            "80/80 [==============================] - 0s 31us/step - loss: 372.7869 - mean_absolute_error: 16.0957 - acc: 0.0000e+00\n",
            "Epoch 309/400\n",
            "80/80 [==============================] - 0s 27us/step - loss: 372.7693 - mean_absolute_error: 16.0954 - acc: 0.0000e+00\n",
            "Epoch 310/400\n",
            "80/80 [==============================] - 0s 27us/step - loss: 372.7522 - mean_absolute_error: 16.0951 - acc: 0.0000e+00\n",
            "Epoch 311/400\n",
            "80/80 [==============================] - 0s 47us/step - loss: 372.7355 - mean_absolute_error: 16.0948 - acc: 0.0000e+00\n",
            "Epoch 312/400\n",
            "80/80 [==============================] - 0s 30us/step - loss: 372.7194 - mean_absolute_error: 16.0945 - acc: 0.0000e+00\n",
            "Epoch 313/400\n",
            "80/80 [==============================] - 0s 30us/step - loss: 372.7037 - mean_absolute_error: 16.0942 - acc: 0.0000e+00\n",
            "Epoch 314/400\n",
            "80/80 [==============================] - 0s 37us/step - loss: 372.6886 - mean_absolute_error: 16.0939 - acc: 0.0000e+00\n",
            "Epoch 315/400\n",
            "80/80 [==============================] - 0s 31us/step - loss: 372.6737 - mean_absolute_error: 16.0936 - acc: 0.0000e+00\n",
            "Epoch 316/400\n",
            "80/80 [==============================] - 0s 51us/step - loss: 372.6594 - mean_absolute_error: 16.0934 - acc: 0.0000e+00\n",
            "Epoch 317/400\n",
            "80/80 [==============================] - 0s 55us/step - loss: 372.6454 - mean_absolute_error: 16.0931 - acc: 0.0000e+00\n",
            "Epoch 318/400\n",
            "80/80 [==============================] - 0s 27us/step - loss: 372.6319 - mean_absolute_error: 16.0928 - acc: 0.0000e+00\n",
            "Epoch 319/400\n",
            "80/80 [==============================] - 0s 40us/step - loss: 372.6187 - mean_absolute_error: 16.0926 - acc: 0.0000e+00\n",
            "Epoch 320/400\n",
            "80/80 [==============================] - 0s 34us/step - loss: 372.6060 - mean_absolute_error: 16.0923 - acc: 0.0000e+00\n",
            "Epoch 321/400\n",
            "80/80 [==============================] - 0s 27us/step - loss: 372.5936 - mean_absolute_error: 16.0921 - acc: 0.0000e+00\n",
            "Epoch 322/400\n",
            "80/80 [==============================] - 0s 28us/step - loss: 372.5815 - mean_absolute_error: 16.0918 - acc: 0.0000e+00\n",
            "Epoch 323/400\n",
            "80/80 [==============================] - 0s 41us/step - loss: 372.5699 - mean_absolute_error: 16.0916 - acc: 0.0000e+00\n",
            "Epoch 324/400\n",
            "80/80 [==============================] - 0s 36us/step - loss: 372.5585 - mean_absolute_error: 16.0913 - acc: 0.0000e+00\n",
            "Epoch 325/400\n",
            "80/80 [==============================] - 0s 57us/step - loss: 372.5475 - mean_absolute_error: 16.0911 - acc: 0.0000e+00\n",
            "Epoch 326/400\n",
            "80/80 [==============================] - 0s 32us/step - loss: 372.5367 - mean_absolute_error: 16.0908 - acc: 0.0000e+00\n",
            "Epoch 327/400\n",
            "80/80 [==============================] - 0s 29us/step - loss: 372.5263 - mean_absolute_error: 16.0906 - acc: 0.0000e+00\n",
            "Epoch 328/400\n",
            "80/80 [==============================] - 0s 47us/step - loss: 372.5162 - mean_absolute_error: 16.0904 - acc: 0.0000e+00\n",
            "Epoch 329/400\n",
            "80/80 [==============================] - 0s 33us/step - loss: 372.5064 - mean_absolute_error: 16.0901 - acc: 0.0000e+00\n",
            "Epoch 330/400\n",
            "80/80 [==============================] - 0s 38us/step - loss: 372.4969 - mean_absolute_error: 16.0899 - acc: 0.0000e+00\n",
            "Epoch 331/400\n",
            "80/80 [==============================] - 0s 32us/step - loss: 372.4877 - mean_absolute_error: 16.0897 - acc: 0.0000e+00\n",
            "Epoch 332/400\n",
            "80/80 [==============================] - 0s 34us/step - loss: 372.4786 - mean_absolute_error: 16.0895 - acc: 0.0000e+00\n",
            "Epoch 333/400\n",
            "80/80 [==============================] - 0s 42us/step - loss: 372.4699 - mean_absolute_error: 16.0895 - acc: 0.0000e+00\n",
            "Epoch 334/400\n",
            "80/80 [==============================] - 0s 37us/step - loss: 372.4615 - mean_absolute_error: 16.0895 - acc: 0.0000e+00\n",
            "Epoch 335/400\n",
            "80/80 [==============================] - 0s 53us/step - loss: 372.4532 - mean_absolute_error: 16.0896 - acc: 0.0000e+00\n",
            "Epoch 336/400\n",
            "80/80 [==============================] - 0s 42us/step - loss: 372.4452 - mean_absolute_error: 16.0896 - acc: 0.0000e+00\n",
            "Epoch 337/400\n",
            "80/80 [==============================] - 0s 24us/step - loss: 372.4374 - mean_absolute_error: 16.0896 - acc: 0.0000e+00\n",
            "Epoch 338/400\n",
            "80/80 [==============================] - 0s 36us/step - loss: 372.4299 - mean_absolute_error: 16.0896 - acc: 0.0000e+00\n",
            "Epoch 339/400\n",
            "80/80 [==============================] - 0s 59us/step - loss: 372.4226 - mean_absolute_error: 16.0896 - acc: 0.0000e+00\n",
            "Epoch 340/400\n",
            "80/80 [==============================] - 0s 32us/step - loss: 372.4155 - mean_absolute_error: 16.0896 - acc: 0.0000e+00\n",
            "Epoch 341/400\n",
            "80/80 [==============================] - 0s 64us/step - loss: 372.4086 - mean_absolute_error: 16.0896 - acc: 0.0000e+00\n",
            "Epoch 342/400\n",
            "80/80 [==============================] - 0s 49us/step - loss: 372.4019 - mean_absolute_error: 16.0897 - acc: 0.0000e+00\n",
            "Epoch 343/400\n",
            "80/80 [==============================] - 0s 60us/step - loss: 372.3954 - mean_absolute_error: 16.0897 - acc: 0.0000e+00\n",
            "Epoch 344/400\n",
            "80/80 [==============================] - 0s 41us/step - loss: 372.3890 - mean_absolute_error: 16.0897 - acc: 0.0000e+00\n",
            "Epoch 345/400\n",
            "80/80 [==============================] - 0s 23us/step - loss: 372.3829 - mean_absolute_error: 16.0897 - acc: 0.0000e+00\n",
            "Epoch 346/400\n",
            "80/80 [==============================] - 0s 46us/step - loss: 372.3769 - mean_absolute_error: 16.0897 - acc: 0.0000e+00\n",
            "Epoch 347/400\n",
            "80/80 [==============================] - 0s 46us/step - loss: 372.3712 - mean_absolute_error: 16.0897 - acc: 0.0000e+00\n",
            "Epoch 348/400\n",
            "80/80 [==============================] - 0s 43us/step - loss: 372.3655 - mean_absolute_error: 16.0897 - acc: 0.0000e+00\n",
            "Epoch 349/400\n",
            "80/80 [==============================] - 0s 41us/step - loss: 372.3600 - mean_absolute_error: 16.0897 - acc: 0.0000e+00\n",
            "Epoch 350/400\n",
            "80/80 [==============================] - 0s 21us/step - loss: 372.3547 - mean_absolute_error: 16.0898 - acc: 0.0000e+00\n",
            "Epoch 351/400\n",
            "80/80 [==============================] - 0s 51us/step - loss: 372.3495 - mean_absolute_error: 16.0898 - acc: 0.0000e+00\n",
            "Epoch 352/400\n",
            "80/80 [==============================] - 0s 43us/step - loss: 372.3446 - mean_absolute_error: 16.0898 - acc: 0.0000e+00\n",
            "Epoch 353/400\n",
            "80/80 [==============================] - 0s 26us/step - loss: 372.3397 - mean_absolute_error: 16.0898 - acc: 0.0000e+00\n",
            "Epoch 354/400\n",
            "80/80 [==============================] - 0s 39us/step - loss: 372.3350 - mean_absolute_error: 16.0898 - acc: 0.0000e+00\n",
            "Epoch 355/400\n",
            "80/80 [==============================] - 0s 47us/step - loss: 372.3304 - mean_absolute_error: 16.0898 - acc: 0.0000e+00\n",
            "Epoch 356/400\n",
            "80/80 [==============================] - 0s 39us/step - loss: 372.3260 - mean_absolute_error: 16.0898 - acc: 0.0000e+00\n",
            "Epoch 357/400\n",
            "80/80 [==============================] - 0s 61us/step - loss: 372.3216 - mean_absolute_error: 16.0898 - acc: 0.0000e+00\n",
            "Epoch 358/400\n",
            "80/80 [==============================] - 0s 26us/step - loss: 372.3174 - mean_absolute_error: 16.0898 - acc: 0.0000e+00\n",
            "Epoch 359/400\n",
            "80/80 [==============================] - 0s 73us/step - loss: 372.3133 - mean_absolute_error: 16.0899 - acc: 0.0000e+00\n",
            "Epoch 360/400\n",
            "80/80 [==============================] - 0s 49us/step - loss: 372.3094 - mean_absolute_error: 16.0899 - acc: 0.0000e+00\n",
            "Epoch 361/400\n",
            "80/80 [==============================] - 0s 34us/step - loss: 372.3056 - mean_absolute_error: 16.0899 - acc: 0.0000e+00\n",
            "Epoch 362/400\n",
            "80/80 [==============================] - 0s 41us/step - loss: 372.3018 - mean_absolute_error: 16.0899 - acc: 0.0000e+00\n",
            "Epoch 363/400\n",
            "80/80 [==============================] - 0s 46us/step - loss: 372.2982 - mean_absolute_error: 16.0899 - acc: 0.0000e+00\n",
            "Epoch 364/400\n",
            "80/80 [==============================] - 0s 25us/step - loss: 372.2946 - mean_absolute_error: 16.0899 - acc: 0.0000e+00\n",
            "Epoch 365/400\n",
            "80/80 [==============================] - 0s 67us/step - loss: 372.2912 - mean_absolute_error: 16.0899 - acc: 0.0000e+00\n",
            "Epoch 366/400\n",
            "80/80 [==============================] - 0s 42us/step - loss: 372.2879 - mean_absolute_error: 16.0899 - acc: 0.0000e+00\n",
            "Epoch 367/400\n",
            "80/80 [==============================] - 0s 44us/step - loss: 372.2847 - mean_absolute_error: 16.0899 - acc: 0.0000e+00\n",
            "Epoch 368/400\n",
            "80/80 [==============================] - 0s 108us/step - loss: 372.2816 - mean_absolute_error: 16.0899 - acc: 0.0000e+00\n",
            "Epoch 369/400\n",
            "80/80 [==============================] - 0s 49us/step - loss: 372.2785 - mean_absolute_error: 16.0900 - acc: 0.0000e+00\n",
            "Epoch 370/400\n",
            "80/80 [==============================] - 0s 70us/step - loss: 372.2756 - mean_absolute_error: 16.0900 - acc: 0.0000e+00\n",
            "Epoch 371/400\n",
            "80/80 [==============================] - 0s 52us/step - loss: 372.2727 - mean_absolute_error: 16.0900 - acc: 0.0000e+00\n",
            "Epoch 372/400\n",
            "80/80 [==============================] - 0s 44us/step - loss: 372.2699 - mean_absolute_error: 16.0900 - acc: 0.0000e+00\n",
            "Epoch 373/400\n",
            "80/80 [==============================] - 0s 31us/step - loss: 372.2672 - mean_absolute_error: 16.0900 - acc: 0.0000e+00\n",
            "Epoch 374/400\n",
            "80/80 [==============================] - 0s 42us/step - loss: 372.2646 - mean_absolute_error: 16.0900 - acc: 0.0000e+00\n",
            "Epoch 375/400\n",
            "80/80 [==============================] - 0s 38us/step - loss: 372.2620 - mean_absolute_error: 16.0900 - acc: 0.0000e+00\n",
            "Epoch 376/400\n",
            "80/80 [==============================] - 0s 62us/step - loss: 372.2595 - mean_absolute_error: 16.0900 - acc: 0.0000e+00\n",
            "Epoch 377/400\n",
            "80/80 [==============================] - 0s 129us/step - loss: 372.2571 - mean_absolute_error: 16.0900 - acc: 0.0000e+00\n",
            "Epoch 378/400\n",
            "80/80 [==============================] - 0s 54us/step - loss: 372.2548 - mean_absolute_error: 16.0900 - acc: 0.0000e+00\n",
            "Epoch 379/400\n",
            "80/80 [==============================] - 0s 49us/step - loss: 372.2525 - mean_absolute_error: 16.0900 - acc: 0.0000e+00\n",
            "Epoch 380/400\n",
            "80/80 [==============================] - 0s 49us/step - loss: 372.2503 - mean_absolute_error: 16.0900 - acc: 0.0000e+00\n",
            "Epoch 381/400\n",
            "80/80 [==============================] - 0s 26us/step - loss: 372.2481 - mean_absolute_error: 16.0900 - acc: 0.0000e+00\n",
            "Epoch 382/400\n",
            "80/80 [==============================] - 0s 44us/step - loss: 372.2461 - mean_absolute_error: 16.0901 - acc: 0.0000e+00\n",
            "Epoch 383/400\n",
            "80/80 [==============================] - 0s 27us/step - loss: 372.2441 - mean_absolute_error: 16.0901 - acc: 0.0000e+00\n",
            "Epoch 384/400\n",
            "80/80 [==============================] - 0s 42us/step - loss: 372.2421 - mean_absolute_error: 16.0901 - acc: 0.0000e+00\n",
            "Epoch 385/400\n",
            "80/80 [==============================] - 0s 34us/step - loss: 372.2402 - mean_absolute_error: 16.0901 - acc: 0.0000e+00\n",
            "Epoch 386/400\n",
            "80/80 [==============================] - 0s 71us/step - loss: 372.2383 - mean_absolute_error: 16.0901 - acc: 0.0000e+00\n",
            "Epoch 387/400\n",
            "80/80 [==============================] - 0s 32us/step - loss: 372.2366 - mean_absolute_error: 16.0901 - acc: 0.0000e+00\n",
            "Epoch 388/400\n",
            "80/80 [==============================] - 0s 52us/step - loss: 372.2348 - mean_absolute_error: 16.0901 - acc: 0.0000e+00\n",
            "Epoch 389/400\n",
            "80/80 [==============================] - 0s 41us/step - loss: 372.2332 - mean_absolute_error: 16.0901 - acc: 0.0000e+00\n",
            "Epoch 390/400\n",
            "80/80 [==============================] - 0s 26us/step - loss: 372.2314 - mean_absolute_error: 16.0901 - acc: 0.0000e+00\n",
            "Epoch 391/400\n",
            "80/80 [==============================] - 0s 34us/step - loss: 372.2299 - mean_absolute_error: 16.0901 - acc: 0.0000e+00\n",
            "Epoch 392/400\n",
            "80/80 [==============================] - 0s 50us/step - loss: 372.2283 - mean_absolute_error: 16.0901 - acc: 0.0000e+00\n",
            "Epoch 393/400\n",
            "80/80 [==============================] - 0s 25us/step - loss: 372.2267 - mean_absolute_error: 16.0901 - acc: 0.0000e+00\n",
            "Epoch 394/400\n",
            "80/80 [==============================] - 0s 57us/step - loss: 372.2253 - mean_absolute_error: 16.0901 - acc: 0.0000e+00\n",
            "Epoch 395/400\n",
            "80/80 [==============================] - 0s 44us/step - loss: 372.2239 - mean_absolute_error: 16.0901 - acc: 0.0000e+00\n",
            "Epoch 396/400\n",
            "80/80 [==============================] - 0s 42us/step - loss: 372.2225 - mean_absolute_error: 16.0901 - acc: 0.0000e+00\n",
            "Epoch 397/400\n",
            "80/80 [==============================] - 0s 31us/step - loss: 372.2212 - mean_absolute_error: 16.0902 - acc: 0.0000e+00\n",
            "Epoch 398/400\n",
            "80/80 [==============================] - 0s 20us/step - loss: 372.2199 - mean_absolute_error: 16.0902 - acc: 0.0000e+00\n",
            "Epoch 399/400\n",
            "80/80 [==============================] - 0s 38us/step - loss: 372.2186 - mean_absolute_error: 16.0902 - acc: 0.0000e+00\n",
            "Epoch 400/400\n",
            "80/80 [==============================] - 0s 78us/step - loss: 372.2174 - mean_absolute_error: 16.0902 - acc: 0.0000e+00\n"
          ],
          "name": "stdout"
        }
      ]
    },
    {
      "cell_type": "code",
      "metadata": {
        "id": "_4mNtz7FTR5x",
        "colab_type": "code",
        "outputId": "c2e3915b-a00a-4bd8-b2ce-6be082f2c8c4",
        "colab": {}
      },
      "source": [
        "plt.plot(history.history['loss'])"
      ],
      "execution_count": 0,
      "outputs": [
        {
          "output_type": "execute_result",
          "data": {
            "text/plain": [
              "[<matplotlib.lines.Line2D at 0x1a411d7a20>]"
            ]
          },
          "metadata": {
            "tags": []
          },
          "execution_count": 69
        },
        {
          "output_type": "display_data",
          "data": {
            "image/png": "[encoded data removed]",
            "text/plain": [
              "<Figure size 432x288 with 1 Axes>"
            ]
          },
          "metadata": {
            "tags": []
          }
        }
      ]
    },
    {
      "cell_type": "code",
      "metadata": {
        "id": "xYa9ZtDUTR5z",
        "colab_type": "code",
        "outputId": "27e03d6b-6107-4cb0-893e-9d6aac5e9680",
        "colab": {}
      },
      "source": [
        "lr3.get_weights()"
      ],
      "execution_count": 0,
      "outputs": [
        {
          "output_type": "execute_result",
          "data": {
            "text/plain": [
              "[array([[82.38442]], dtype=float32), array([-3.3930035], dtype=float32)]"
            ]
          },
          "metadata": {
            "tags": []
          },
          "execution_count": 70
        }
      ]
    },
    {
      "cell_type": "markdown",
      "metadata": {
        "id": "_jcnUYXoTR52",
        "colab_type": "text"
      },
      "source": [
        "### Using the Keras Functional API\n",
        "\n"
      ]
    },
    {
      "cell_type": "code",
      "metadata": {
        "id": "DOuDEF3yTR53",
        "colab_type": "code",
        "outputId": "0ee72d67-4de5-412c-ae42-7320a9169c9e",
        "colab": {}
      },
      "source": [
        "from keras.layers import Input, Dense\n",
        "from keras.models import Model\n",
        "\n",
        "inputs_placeholder = Input(shape=(1,))\n",
        "outputs_placeholder = Dense(1, activation='linear')(inputs_placeholder)\n",
        "\n",
        "m = Model(inputs=inputs_placeholder, outputs=outputs_placeholder)\n",
        "m.compile(optimizer='sgd', loss='mean_squared_error',  metrics=['mae','accuracy'])\n",
        "m.summary()"
      ],
      "execution_count": 0,
      "outputs": [
        {
          "output_type": "stream",
          "text": [
            "_________________________________________________________________\n",
            "Layer (type)                 Output Shape              Param #   \n",
            "=================================================================\n",
            "input_3 (InputLayer)         (None, 1)                 0         \n",
            "_________________________________________________________________\n",
            "dense_17 (Dense)             (None, 1)                 2         \n",
            "=================================================================\n",
            "Total params: 2\n",
            "Trainable params: 2\n",
            "Non-trainable params: 0\n",
            "_________________________________________________________________\n"
          ],
          "name": "stdout"
        }
      ]
    },
    {
      "cell_type": "code",
      "metadata": {
        "id": "WFXX55eXTR55",
        "colab_type": "code",
        "outputId": "5c1b80dd-25b3-4af0-bac4-2a1d1dae05a1",
        "colab": {}
      },
      "source": [
        "history2 = m.fit(Xtrain, ytrain, epochs=250, batch_size=80)"
      ],
      "execution_count": 0,
      "outputs": [
        {
          "output_type": "stream",
          "text": [
            "Epoch 1/250\n",
            "80/80 [==============================] - 0s 6ms/step - loss: 5279.3291 - mean_absolute_error: 59.3928 - acc: 0.0000e+00\n",
            "Epoch 2/250\n",
            "80/80 [==============================] - 0s 22us/step - loss: 5136.4331 - mean_absolute_error: 58.5800 - acc: 0.0000e+00\n",
            "Epoch 3/250\n",
            "80/80 [==============================] - 0s 21us/step - loss: 4997.7144 - mean_absolute_error: 57.7793 - acc: 0.0000e+00\n",
            "Epoch 4/250\n",
            "80/80 [==============================] - 0s 26us/step - loss: 4863.0483 - mean_absolute_error: 56.9904 - acc: 0.0000e+00\n",
            "Epoch 5/250\n",
            "80/80 [==============================] - 0s 26us/step - loss: 4732.3164 - mean_absolute_error: 56.2221 - acc: 0.0000e+00\n",
            "Epoch 6/250\n",
            "80/80 [==============================] - 0s 26us/step - loss: 4605.4038 - mean_absolute_error: 55.4700 - acc: 0.0000e+00\n",
            "Epoch 7/250\n",
            "80/80 [==============================] - 0s 25us/step - loss: 4482.1968 - mean_absolute_error: 54.7378 - acc: 0.0000e+00\n",
            "Epoch 8/250\n",
            "80/80 [==============================] - 0s 22us/step - loss: 4362.5889 - mean_absolute_error: 54.0210 - acc: 0.0000e+00\n",
            "Epoch 9/250\n",
            "80/80 [==============================] - 0s 28us/step - loss: 4246.4736 - mean_absolute_error: 53.3273 - acc: 0.0000e+00\n",
            "Epoch 10/250\n",
            "80/80 [==============================] - 0s 37us/step - loss: 4133.7476 - mean_absolute_error: 52.6478 - acc: 0.0000e+00\n",
            "Epoch 11/250\n",
            "80/80 [==============================] - 0s 25us/step - loss: 4024.3125 - mean_absolute_error: 51.9782 - acc: 0.0000e+00\n",
            "Epoch 12/250\n",
            "80/80 [==============================] - 0s 27us/step - loss: 3918.0710 - mean_absolute_error: 51.3186 - acc: 0.0000e+00\n",
            "Epoch 13/250\n",
            "80/80 [==============================] - 0s 26us/step - loss: 3814.9304 - mean_absolute_error: 50.6686 - acc: 0.0000e+00\n",
            "Epoch 14/250\n",
            "80/80 [==============================] - 0s 26us/step - loss: 3714.7996 - mean_absolute_error: 50.0283 - acc: 0.0000e+00\n",
            "Epoch 15/250\n",
            "80/80 [==============================] - 0s 24us/step - loss: 3617.5903 - mean_absolute_error: 49.3974 - acc: 0.0000e+00\n",
            "Epoch 16/250\n",
            "80/80 [==============================] - 0s 32us/step - loss: 3523.2163 - mean_absolute_error: 48.7757 - acc: 0.0000e+00\n",
            "Epoch 17/250\n",
            "80/80 [==============================] - 0s 37us/step - loss: 3431.5950 - mean_absolute_error: 48.1633 - acc: 0.0000e+00\n",
            "Epoch 18/250\n",
            "80/80 [==============================] - 0s 24us/step - loss: 3342.6460 - mean_absolute_error: 47.5598 - acc: 0.0000e+00\n",
            "Epoch 19/250\n",
            "80/80 [==============================] - 0s 25us/step - loss: 3256.2915 - mean_absolute_error: 46.9652 - acc: 0.0000e+00\n",
            "Epoch 20/250\n",
            "80/80 [==============================] - 0s 38us/step - loss: 3172.4543 - mean_absolute_error: 46.3794 - acc: 0.0000e+00\n",
            "Epoch 21/250\n",
            "80/80 [==============================] - 0s 40us/step - loss: 3091.0610 - mean_absolute_error: 45.8022 - acc: 0.0000e+00\n",
            "Epoch 22/250\n",
            "80/80 [==============================] - 0s 28us/step - loss: 3012.0410 - mean_absolute_error: 45.2336 - acc: 0.0000e+00\n",
            "Epoch 23/250\n",
            "80/80 [==============================] - 0s 26us/step - loss: 2935.3240 - mean_absolute_error: 44.6732 - acc: 0.0000e+00\n",
            "Epoch 24/250\n",
            "80/80 [==============================] - 0s 23us/step - loss: 2860.8425 - mean_absolute_error: 44.1212 - acc: 0.0000e+00\n",
            "Epoch 25/250\n",
            "80/80 [==============================] - 0s 48us/step - loss: 2788.5320 - mean_absolute_error: 43.5773 - acc: 0.0000e+00\n",
            "Epoch 26/250\n",
            "80/80 [==============================] - 0s 41us/step - loss: 2718.3281 - mean_absolute_error: 43.0413 - acc: 0.0000e+00\n",
            "Epoch 27/250\n",
            "80/80 [==============================] - 0s 26us/step - loss: 2650.1694 - mean_absolute_error: 42.5133 - acc: 0.0000e+00\n",
            "Epoch 28/250\n",
            "80/80 [==============================] - 0s 21us/step - loss: 2583.9966 - mean_absolute_error: 41.9930 - acc: 0.0000e+00\n",
            "Epoch 29/250\n",
            "80/80 [==============================] - 0s 36us/step - loss: 2519.7510 - mean_absolute_error: 41.4804 - acc: 0.0000e+00\n",
            "Epoch 30/250\n",
            "80/80 [==============================] - 0s 32us/step - loss: 2457.3765 - mean_absolute_error: 40.9753 - acc: 0.0000e+00\n",
            "Epoch 31/250\n",
            "80/80 [==============================] - 0s 28us/step - loss: 2396.8184 - mean_absolute_error: 40.4777 - acc: 0.0000e+00\n",
            "Epoch 32/250\n",
            "80/80 [==============================] - 0s 24us/step - loss: 2338.0237 - mean_absolute_error: 39.9874 - acc: 0.0000e+00\n",
            "Epoch 33/250\n",
            "80/80 [==============================] - 0s 25us/step - loss: 2280.9407 - mean_absolute_error: 39.5043 - acc: 0.0000e+00\n",
            "Epoch 34/250\n",
            "80/80 [==============================] - 0s 36us/step - loss: 2225.5195 - mean_absolute_error: 39.0283 - acc: 0.0000e+00\n",
            "Epoch 35/250\n",
            "80/80 [==============================] - 0s 34us/step - loss: 2171.7117 - mean_absolute_error: 38.5593 - acc: 0.0000e+00\n",
            "Epoch 36/250\n",
            "80/80 [==============================] - 0s 25us/step - loss: 2119.4700 - mean_absolute_error: 38.0972 - acc: 0.0000e+00\n",
            "Epoch 37/250\n",
            "80/80 [==============================] - 0s 34us/step - loss: 2068.7485 - mean_absolute_error: 37.6419 - acc: 0.0000e+00\n",
            "Epoch 38/250\n",
            "80/80 [==============================] - 0s 26us/step - loss: 2019.5032 - mean_absolute_error: 37.1934 - acc: 0.0000e+00\n",
            "Epoch 39/250\n",
            "80/80 [==============================] - 0s 28us/step - loss: 1971.6908 - mean_absolute_error: 36.7514 - acc: 0.0000e+00\n",
            "Epoch 40/250\n",
            "80/80 [==============================] - 0s 27us/step - loss: 1925.2692 - mean_absolute_error: 36.3159 - acc: 0.0000e+00\n",
            "Epoch 41/250\n",
            "80/80 [==============================] - 0s 23us/step - loss: 1880.1980 - mean_absolute_error: 35.8868 - acc: 0.0000e+00\n",
            "Epoch 42/250\n",
            "80/80 [==============================] - 0s 76us/step - loss: 1836.4381 - mean_absolute_error: 35.4640 - acc: 0.0000e+00\n",
            "Epoch 43/250\n",
            "80/80 [==============================] - 0s 30us/step - loss: 1793.9512 - mean_absolute_error: 35.0474 - acc: 0.0000e+00\n",
            "Epoch 44/250\n",
            "80/80 [==============================] - 0s 29us/step - loss: 1752.6996 - mean_absolute_error: 34.6370 - acc: 0.0000e+00\n",
            "Epoch 45/250\n",
            "80/80 [==============================] - 0s 31us/step - loss: 1712.6477 - mean_absolute_error: 34.2326 - acc: 0.0000e+00\n",
            "Epoch 46/250\n",
            "80/80 [==============================] - 0s 36us/step - loss: 1673.7605 - mean_absolute_error: 33.8341 - acc: 0.0000e+00\n",
            "Epoch 47/250\n",
            "80/80 [==============================] - 0s 24us/step - loss: 1636.0037 - mean_absolute_error: 33.4415 - acc: 0.0000e+00\n",
            "Epoch 48/250\n",
            "80/80 [==============================] - 0s 27us/step - loss: 1599.3445 - mean_absolute_error: 33.0614 - acc: 0.0000e+00\n",
            "Epoch 49/250\n",
            "80/80 [==============================] - 0s 34us/step - loss: 1563.7513 - mean_absolute_error: 32.6921 - acc: 0.0000e+00\n",
            "Epoch 50/250\n",
            "80/80 [==============================] - 0s 27us/step - loss: 1529.1927 - mean_absolute_error: 32.3294 - acc: 0.0000e+00\n",
            "Epoch 51/250\n",
            "80/80 [==============================] - 0s 40us/step - loss: 1495.6383 - mean_absolute_error: 31.9772 - acc: 0.0000e+00\n",
            "Epoch 52/250\n",
            "80/80 [==============================] - 0s 26us/step - loss: 1463.0592 - mean_absolute_error: 31.6302 - acc: 0.0000e+00\n",
            "Epoch 53/250\n",
            "80/80 [==============================] - 0s 42us/step - loss: 1431.4266 - mean_absolute_error: 31.2883 - acc: 0.0000e+00\n",
            "Epoch 54/250\n",
            "80/80 [==============================] - 0s 27us/step - loss: 1400.7135 - mean_absolute_error: 30.9514 - acc: 0.0000e+00\n",
            "Epoch 55/250\n",
            "80/80 [==============================] - 0s 25us/step - loss: 1370.8926 - mean_absolute_error: 30.6194 - acc: 0.0000e+00\n",
            "Epoch 56/250\n",
            "80/80 [==============================] - 0s 28us/step - loss: 1341.9381 - mean_absolute_error: 30.2923 - acc: 0.0000e+00\n",
            "Epoch 57/250\n",
            "80/80 [==============================] - 0s 27us/step - loss: 1313.8248 - mean_absolute_error: 29.9700 - acc: 0.0000e+00\n",
            "Epoch 58/250\n",
            "80/80 [==============================] - 0s 28us/step - loss: 1286.5281 - mean_absolute_error: 29.6573 - acc: 0.0000e+00\n",
            "Epoch 59/250\n",
            "80/80 [==============================] - 0s 41us/step - loss: 1260.0240 - mean_absolute_error: 29.3516 - acc: 0.0000e+00\n",
            "Epoch 60/250\n",
            "80/80 [==============================] - 0s 31us/step - loss: 1234.2898 - mean_absolute_error: 29.0504 - acc: 0.0000e+00\n",
            "Epoch 61/250\n",
            "80/80 [==============================] - 0s 27us/step - loss: 1209.3029 - mean_absolute_error: 28.7535 - acc: 0.0000e+00\n",
            "Epoch 62/250\n",
            "80/80 [==============================] - 0s 25us/step - loss: 1185.0417 - mean_absolute_error: 28.4610 - acc: 0.0000e+00\n",
            "Epoch 63/250\n",
            "80/80 [==============================] - 0s 48us/step - loss: 1161.4849 - mean_absolute_error: 28.1727 - acc: 0.0000e+00\n",
            "Epoch 64/250\n",
            "80/80 [==============================] - 0s 25us/step - loss: 1138.6119 - mean_absolute_error: 27.8886 - acc: 0.0000e+00\n",
            "Epoch 65/250\n",
            "80/80 [==============================] - 0s 43us/step - loss: 1116.4031 - mean_absolute_error: 27.6096 - acc: 0.0000e+00\n",
            "Epoch 66/250\n",
            "80/80 [==============================] - 0s 27us/step - loss: 1094.8390 - mean_absolute_error: 27.3473 - acc: 0.0000e+00\n",
            "Epoch 67/250\n",
            "80/80 [==============================] - 0s 41us/step - loss: 1073.9008 - mean_absolute_error: 27.0894 - acc: 0.0000e+00\n",
            "Epoch 68/250\n",
            "80/80 [==============================] - 0s 39us/step - loss: 1053.5703 - mean_absolute_error: 26.8354 - acc: 0.0000e+00\n",
            "Epoch 69/250\n",
            "80/80 [==============================] - 0s 25us/step - loss: 1033.8300 - mean_absolute_error: 26.5850 - acc: 0.0000e+00\n",
            "Epoch 70/250\n",
            "80/80 [==============================] - 0s 34us/step - loss: 1014.6624 - mean_absolute_error: 26.3383 - acc: 0.0000e+00\n",
            "Epoch 71/250\n",
            "80/80 [==============================] - 0s 26us/step - loss: 996.0510 - mean_absolute_error: 26.0952 - acc: 0.0000e+00\n",
            "Epoch 72/250\n",
            "80/80 [==============================] - 0s 19us/step - loss: 977.9798 - mean_absolute_error: 25.8556 - acc: 0.0000e+00\n",
            "Epoch 73/250\n",
            "80/80 [==============================] - 0s 21us/step - loss: 960.4329 - mean_absolute_error: 25.6195 - acc: 0.0000e+00\n",
            "Epoch 74/250\n",
            "80/80 [==============================] - 0s 38us/step - loss: 943.3951 - mean_absolute_error: 25.3869 - acc: 0.0000e+00\n",
            "Epoch 75/250\n",
            "80/80 [==============================] - 0s 36us/step - loss: 926.8517 - mean_absolute_error: 25.1577 - acc: 0.0000e+00\n",
            "Epoch 76/250\n",
            "80/80 [==============================] - 0s 45us/step - loss: 910.7880 - mean_absolute_error: 24.9349 - acc: 0.0000e+00\n",
            "Epoch 77/250\n",
            "80/80 [==============================] - 0s 31us/step - loss: 895.1902 - mean_absolute_error: 24.7153 - acc: 0.0000e+00\n",
            "Epoch 78/250\n",
            "80/80 [==============================] - 0s 34us/step - loss: 880.0451 - mean_absolute_error: 24.4989 - acc: 0.0000e+00\n",
            "Epoch 79/250\n",
            "80/80 [==============================] - 0s 22us/step - loss: 865.3391 - mean_absolute_error: 24.2857 - acc: 0.0000e+00\n",
            "Epoch 80/250\n",
            "80/80 [==============================] - 0s 48us/step - loss: 851.0598 - mean_absolute_error: 24.0756 - acc: 0.0000e+00\n",
            "Epoch 81/250\n",
            "80/80 [==============================] - 0s 32us/step - loss: 837.1943 - mean_absolute_error: 23.8685 - acc: 0.0000e+00\n",
            "Epoch 82/250\n",
            "80/80 [==============================] - 0s 37us/step - loss: 823.7310 - mean_absolute_error: 23.6647 - acc: 0.0000e+00\n",
            "Epoch 83/250\n",
            "80/80 [==============================] - 0s 45us/step - loss: 810.6580 - mean_absolute_error: 23.4791 - acc: 0.0000e+00\n",
            "Epoch 84/250\n",
            "80/80 [==============================] - 0s 27us/step - loss: 797.9642 - mean_absolute_error: 23.2981 - acc: 0.0000e+00\n",
            "Epoch 85/250\n",
            "80/80 [==============================] - 0s 34us/step - loss: 785.6383 - mean_absolute_error: 23.1198 - acc: 0.0000e+00\n",
            "Epoch 86/250\n",
            "80/80 [==============================] - 0s 36us/step - loss: 773.6697 - mean_absolute_error: 22.9441 - acc: 0.0000e+00\n",
            "Epoch 87/250\n",
            "80/80 [==============================] - 0s 45us/step - loss: 762.0481 - mean_absolute_error: 22.7709 - acc: 0.0000e+00\n",
            "Epoch 88/250\n",
            "80/80 [==============================] - 0s 24us/step - loss: 750.7635 - mean_absolute_error: 22.6003 - acc: 0.0000e+00\n",
            "Epoch 89/250\n",
            "80/80 [==============================] - 0s 40us/step - loss: 739.8058 - mean_absolute_error: 22.4321 - acc: 0.0000e+00\n",
            "Epoch 90/250\n",
            "80/80 [==============================] - 0s 44us/step - loss: 729.1658 - mean_absolute_error: 22.2664 - acc: 0.0000e+00\n",
            "Epoch 91/250\n",
            "80/80 [==============================] - 0s 39us/step - loss: 718.8342 - mean_absolute_error: 22.1031 - acc: 0.0000e+00\n",
            "Epoch 92/250\n",
            "80/80 [==============================] - 0s 170us/step - loss: 708.8019 - mean_absolute_error: 21.9422 - acc: 0.0000e+00\n",
            "Epoch 93/250\n",
            "80/80 [==============================] - 0s 37us/step - loss: 699.0604 - mean_absolute_error: 21.7836 - acc: 0.0000e+00\n",
            "Epoch 94/250\n",
            "80/80 [==============================] - 0s 43us/step - loss: 689.6012 - mean_absolute_error: 21.6273 - acc: 0.0000e+00\n",
            "Epoch 95/250\n",
            "80/80 [==============================] - 0s 42us/step - loss: 680.4161 - mean_absolute_error: 21.4781 - acc: 0.0000e+00\n",
            "Epoch 96/250\n",
            "80/80 [==============================] - 0s 38us/step - loss: 671.4971 - mean_absolute_error: 21.3377 - acc: 0.0000e+00\n",
            "Epoch 97/250\n",
            "80/80 [==============================] - 0s 70us/step - loss: 662.8365 - mean_absolute_error: 21.2001 - acc: 0.0000e+00\n",
            "Epoch 98/250\n",
            "80/80 [==============================] - 0s 27us/step - loss: 654.4269 - mean_absolute_error: 21.0644 - acc: 0.0000e+00\n",
            "Epoch 99/250\n",
            "80/80 [==============================] - 0s 36us/step - loss: 646.2609 - mean_absolute_error: 20.9307 - acc: 0.0000e+00\n",
            "Epoch 100/250\n",
            "80/80 [==============================] - 0s 54us/step - loss: 638.3312 - mean_absolute_error: 20.7990 - acc: 0.0000e+00\n",
            "Epoch 101/250\n",
            "80/80 [==============================] - 0s 30us/step - loss: 630.6315 - mean_absolute_error: 20.6691 - acc: 0.0000e+00\n",
            "Epoch 102/250\n",
            "80/80 [==============================] - 0s 32us/step - loss: 623.1547 - mean_absolute_error: 20.5412 - acc: 0.0000e+00\n",
            "Epoch 103/250\n",
            "80/80 [==============================] - 0s 35us/step - loss: 615.8947 - mean_absolute_error: 20.4170 - acc: 0.0000e+00\n",
            "Epoch 104/250\n",
            "80/80 [==============================] - 0s 34us/step - loss: 608.8446 - mean_absolute_error: 20.2989 - acc: 0.0000e+00\n",
            "Epoch 105/250\n",
            "80/80 [==============================] - 0s 38us/step - loss: 601.9988 - mean_absolute_error: 20.1825 - acc: 0.0000e+00\n",
            "Epoch 106/250\n",
            "80/80 [==============================] - 0s 41us/step - loss: 595.3514 - mean_absolute_error: 20.0702 - acc: 0.0000e+00\n",
            "Epoch 107/250\n",
            "80/80 [==============================] - 0s 37us/step - loss: 588.8964 - mean_absolute_error: 19.9603 - acc: 0.0000e+00\n",
            "Epoch 108/250\n",
            "80/80 [==============================] - 0s 27us/step - loss: 582.6282 - mean_absolute_error: 19.8519 - acc: 0.0000e+00\n",
            "Epoch 109/250\n",
            "80/80 [==============================] - 0s 35us/step - loss: 576.5417 - mean_absolute_error: 19.7452 - acc: 0.0000e+00\n",
            "Epoch 110/250\n",
            "80/80 [==============================] - 0s 48us/step - loss: 570.6313 - mean_absolute_error: 19.6400 - acc: 0.0000e+00\n",
            "Epoch 111/250\n",
            "80/80 [==============================] - 0s 29us/step - loss: 564.8921 - mean_absolute_error: 19.5363 - acc: 0.0000e+00\n",
            "Epoch 112/250\n",
            "80/80 [==============================] - 0s 84us/step - loss: 559.3188 - mean_absolute_error: 19.4341 - acc: 0.0000e+00\n",
            "Epoch 113/250\n",
            "80/80 [==============================] - 0s 49us/step - loss: 553.9071 - mean_absolute_error: 19.3333 - acc: 0.0000e+00\n",
            "Epoch 114/250\n",
            "80/80 [==============================] - 0s 101us/step - loss: 548.6520 - mean_absolute_error: 19.2340 - acc: 0.0000e+00\n",
            "Epoch 115/250\n",
            "80/80 [==============================] - 0s 54us/step - loss: 543.5490 - mean_absolute_error: 19.1362 - acc: 0.0000e+00\n",
            "Epoch 116/250\n",
            "80/80 [==============================] - 0s 25us/step - loss: 538.5938 - mean_absolute_error: 19.0439 - acc: 0.0000e+00\n",
            "Epoch 117/250\n",
            "80/80 [==============================] - 0s 51us/step - loss: 533.7819 - mean_absolute_error: 18.9581 - acc: 0.0000e+00\n",
            "Epoch 118/250\n",
            "80/80 [==============================] - 0s 37us/step - loss: 529.1094 - mean_absolute_error: 18.8736 - acc: 0.0000e+00\n",
            "Epoch 119/250\n",
            "80/80 [==============================] - 0s 26us/step - loss: 524.5721 - mean_absolute_error: 18.7909 - acc: 0.0000e+00\n",
            "Epoch 120/250\n",
            "80/80 [==============================] - 0s 32us/step - loss: 520.1661 - mean_absolute_error: 18.7165 - acc: 0.0000e+00\n",
            "Epoch 121/250\n",
            "80/80 [==============================] - 0s 33us/step - loss: 515.8876 - mean_absolute_error: 18.6431 - acc: 0.0000e+00\n",
            "Epoch 122/250\n",
            "80/80 [==============================] - 0s 30us/step - loss: 511.7330 - mean_absolute_error: 18.5708 - acc: 0.0000e+00\n",
            "Epoch 123/250\n",
            "80/80 [==============================] - 0s 48us/step - loss: 507.6984 - mean_absolute_error: 18.4995 - acc: 0.0000e+00\n",
            "Epoch 124/250\n",
            "80/80 [==============================] - 0s 44us/step - loss: 503.7808 - mean_absolute_error: 18.4322 - acc: 0.0000e+00\n",
            "Epoch 125/250\n",
            "80/80 [==============================] - 0s 43us/step - loss: 499.9764 - mean_absolute_error: 18.3689 - acc: 0.0000e+00\n",
            "Epoch 126/250\n",
            "80/80 [==============================] - 0s 36us/step - loss: 496.2822 - mean_absolute_error: 18.3065 - acc: 0.0000e+00\n",
            "Epoch 127/250\n",
            "80/80 [==============================] - 0s 42us/step - loss: 492.6948 - mean_absolute_error: 18.2450 - acc: 0.0000e+00\n",
            "Epoch 128/250\n",
            "80/80 [==============================] - 0s 36us/step - loss: 489.2113 - mean_absolute_error: 18.1844 - acc: 0.0000e+00\n",
            "Epoch 129/250\n",
            "80/80 [==============================] - 0s 30us/step - loss: 485.8285 - mean_absolute_error: 18.1246 - acc: 0.0000e+00\n",
            "Epoch 130/250\n",
            "80/80 [==============================] - 0s 67us/step - loss: 482.5435 - mean_absolute_error: 18.0658 - acc: 0.0000e+00\n",
            "Epoch 131/250\n",
            "80/80 [==============================] - 0s 50us/step - loss: 479.3537 - mean_absolute_error: 18.0077 - acc: 0.0000e+00\n",
            "Epoch 132/250\n",
            "80/80 [==============================] - 0s 42us/step - loss: 476.2561 - mean_absolute_error: 17.9506 - acc: 0.0000e+00\n",
            "Epoch 133/250\n",
            "80/80 [==============================] - 0s 56us/step - loss: 473.2480 - mean_absolute_error: 17.8942 - acc: 0.0000e+00\n",
            "Epoch 134/250\n",
            "80/80 [==============================] - 0s 27us/step - loss: 470.3271 - mean_absolute_error: 17.8387 - acc: 0.0000e+00\n",
            "Epoch 135/250\n",
            "80/80 [==============================] - 0s 43us/step - loss: 467.4905 - mean_absolute_error: 17.7840 - acc: 0.0000e+00\n",
            "Epoch 136/250\n",
            "80/80 [==============================] - 0s 59us/step - loss: 464.7360 - mean_absolute_error: 17.7301 - acc: 0.0000e+00\n",
            "Epoch 137/250\n",
            "80/80 [==============================] - 0s 33us/step - loss: 462.0611 - mean_absolute_error: 17.6770 - acc: 0.0000e+00\n",
            "Epoch 138/250\n",
            "80/80 [==============================] - 0s 46us/step - loss: 459.4637 - mean_absolute_error: 17.6272 - acc: 0.0000e+00\n",
            "Epoch 139/250\n",
            "80/80 [==============================] - 0s 69us/step - loss: 456.9413 - mean_absolute_error: 17.5804 - acc: 0.0000e+00\n",
            "Epoch 140/250\n",
            "80/80 [==============================] - 0s 31us/step - loss: 454.4919 - mean_absolute_error: 17.5343 - acc: 0.0000e+00\n",
            "Epoch 141/250\n",
            "80/80 [==============================] - 0s 45us/step - loss: 452.1133 - mean_absolute_error: 17.4889 - acc: 0.0000e+00\n",
            "Epoch 142/250\n",
            "80/80 [==============================] - 0s 29us/step - loss: 449.8036 - mean_absolute_error: 17.4442 - acc: 0.0000e+00\n",
            "Epoch 143/250\n",
            "80/80 [==============================] - 0s 37us/step - loss: 447.5606 - mean_absolute_error: 17.4001 - acc: 0.0000e+00\n",
            "Epoch 144/250\n",
            "80/80 [==============================] - 0s 74us/step - loss: 445.3824 - mean_absolute_error: 17.3586 - acc: 0.0000e+00\n",
            "Epoch 145/250\n",
            "80/80 [==============================] - 0s 27us/step - loss: 443.2673 - mean_absolute_error: 17.3212 - acc: 0.0000e+00\n",
            "Epoch 146/250\n",
            "80/80 [==============================] - 0s 31us/step - loss: 441.2134 - mean_absolute_error: 17.2844 - acc: 0.0000e+00\n",
            "Epoch 147/250\n",
            "80/80 [==============================] - 0s 34us/step - loss: 439.2188 - mean_absolute_error: 17.2481 - acc: 0.0000e+00\n",
            "Epoch 148/250\n",
            "80/80 [==============================] - 0s 48us/step - loss: 437.2818 - mean_absolute_error: 17.2142 - acc: 0.0000e+00\n",
            "Epoch 149/250\n",
            "80/80 [==============================] - 0s 24us/step - loss: 435.4009 - mean_absolute_error: 17.1831 - acc: 0.0000e+00\n",
            "Epoch 150/250\n",
            "80/80 [==============================] - 0s 33us/step - loss: 433.5744 - mean_absolute_error: 17.1524 - acc: 0.0000e+00\n",
            "Epoch 151/250\n",
            "80/80 [==============================] - 0s 29us/step - loss: 431.8007 - mean_absolute_error: 17.1222 - acc: 0.0000e+00\n",
            "Epoch 152/250\n",
            "80/80 [==============================] - 0s 30us/step - loss: 430.0783 - mean_absolute_error: 17.0924 - acc: 0.0000e+00\n",
            "Epoch 153/250\n",
            "80/80 [==============================] - 0s 59us/step - loss: 428.4056 - mean_absolute_error: 17.0631 - acc: 0.0000e+00\n",
            "Epoch 154/250\n",
            "80/80 [==============================] - 0s 42us/step - loss: 426.7813 - mean_absolute_error: 17.0342 - acc: 0.0000e+00\n",
            "Epoch 155/250\n",
            "80/80 [==============================] - 0s 49us/step - loss: 425.2039 - mean_absolute_error: 17.0057 - acc: 0.0000e+00\n",
            "Epoch 156/250\n",
            "80/80 [==============================] - 0s 39us/step - loss: 423.6722 - mean_absolute_error: 16.9776 - acc: 0.0000e+00\n",
            "Epoch 157/250\n",
            "80/80 [==============================] - 0s 39us/step - loss: 422.1847 - mean_absolute_error: 16.9500 - acc: 0.0000e+00\n",
            "Epoch 158/250\n",
            "80/80 [==============================] - 0s 24us/step - loss: 420.7402 - mean_absolute_error: 16.9227 - acc: 0.0000e+00\n",
            "Epoch 159/250\n",
            "80/80 [==============================] - 0s 46us/step - loss: 419.3375 - mean_absolute_error: 16.8959 - acc: 0.0000e+00\n",
            "Epoch 160/250\n",
            "80/80 [==============================] - 0s 37us/step - loss: 417.9753 - mean_absolute_error: 16.8694 - acc: 0.0000e+00\n",
            "Epoch 161/250\n",
            "80/80 [==============================] - 0s 31us/step - loss: 416.6524 - mean_absolute_error: 16.8433 - acc: 0.0000e+00\n",
            "Epoch 162/250\n",
            "80/80 [==============================] - 0s 34us/step - loss: 415.3679 - mean_absolute_error: 16.8176 - acc: 0.0000e+00\n",
            "Epoch 163/250\n",
            "80/80 [==============================] - 0s 36us/step - loss: 414.1204 - mean_absolute_error: 16.7943 - acc: 0.0000e+00\n",
            "Epoch 164/250\n",
            "80/80 [==============================] - 0s 25us/step - loss: 412.9090 - mean_absolute_error: 16.7714 - acc: 0.0000e+00\n",
            "Epoch 165/250\n",
            "80/80 [==============================] - 0s 19us/step - loss: 411.7326 - mean_absolute_error: 16.7489 - acc: 0.0000e+00\n",
            "Epoch 166/250\n",
            "80/80 [==============================] - 0s 28us/step - loss: 410.5902 - mean_absolute_error: 16.7268 - acc: 0.0000e+00\n",
            "Epoch 167/250\n",
            "80/80 [==============================] - 0s 28us/step - loss: 409.4808 - mean_absolute_error: 16.7080 - acc: 0.0000e+00\n",
            "Epoch 168/250\n",
            "80/80 [==============================] - 0s 53us/step - loss: 408.4034 - mean_absolute_error: 16.6907 - acc: 0.0000e+00\n",
            "Epoch 169/250\n",
            "80/80 [==============================] - 0s 30us/step - loss: 407.3572 - mean_absolute_error: 16.6747 - acc: 0.0000e+00\n",
            "Epoch 170/250\n",
            "80/80 [==============================] - 0s 44us/step - loss: 406.3413 - mean_absolute_error: 16.6588 - acc: 0.0000e+00\n",
            "Epoch 171/250\n",
            "80/80 [==============================] - 0s 29us/step - loss: 405.3547 - mean_absolute_error: 16.6432 - acc: 0.0000e+00\n",
            "Epoch 172/250\n",
            "80/80 [==============================] - 0s 35us/step - loss: 404.3966 - mean_absolute_error: 16.6297 - acc: 0.0000e+00\n",
            "Epoch 173/250\n",
            "80/80 [==============================] - 0s 28us/step - loss: 403.4662 - mean_absolute_error: 16.6165 - acc: 0.0000e+00\n",
            "Epoch 174/250\n",
            "80/80 [==============================] - 0s 29us/step - loss: 402.5626 - mean_absolute_error: 16.6035 - acc: 0.0000e+00\n",
            "Epoch 175/250\n",
            "80/80 [==============================] - 0s 32us/step - loss: 401.6851 - mean_absolute_error: 16.5907 - acc: 0.0000e+00\n",
            "Epoch 176/250\n",
            "80/80 [==============================] - 0s 27us/step - loss: 400.8331 - mean_absolute_error: 16.5780 - acc: 0.0000e+00\n",
            "Epoch 177/250\n",
            "80/80 [==============================] - 0s 32us/step - loss: 400.0056 - mean_absolute_error: 16.5656 - acc: 0.0000e+00\n",
            "Epoch 178/250\n",
            "80/80 [==============================] - 0s 33us/step - loss: 399.2020 - mean_absolute_error: 16.5533 - acc: 0.0000e+00\n",
            "Epoch 179/250\n",
            "80/80 [==============================] - 0s 32us/step - loss: 398.4216 - mean_absolute_error: 16.5413 - acc: 0.0000e+00\n",
            "Epoch 180/250\n",
            "80/80 [==============================] - 0s 29us/step - loss: 397.6638 - mean_absolute_error: 16.5294 - acc: 0.0000e+00\n",
            "Epoch 181/250\n",
            "80/80 [==============================] - 0s 28us/step - loss: 396.9278 - mean_absolute_error: 16.5176 - acc: 0.0000e+00\n",
            "Epoch 182/250\n",
            "80/80 [==============================] - 0s 39us/step - loss: 396.2132 - mean_absolute_error: 16.5061 - acc: 0.0000e+00\n",
            "Epoch 183/250\n",
            "80/80 [==============================] - 0s 38us/step - loss: 395.5192 - mean_absolute_error: 16.4947 - acc: 0.0000e+00\n",
            "Epoch 184/250\n",
            "80/80 [==============================] - 0s 30us/step - loss: 394.8452 - mean_absolute_error: 16.4835 - acc: 0.0000e+00\n",
            "Epoch 185/250\n",
            "80/80 [==============================] - 0s 38us/step - loss: 394.1907 - mean_absolute_error: 16.4724 - acc: 0.0000e+00\n",
            "Epoch 186/250\n",
            "80/80 [==============================] - 0s 29us/step - loss: 393.5551 - mean_absolute_error: 16.4615 - acc: 0.0000e+00\n",
            "Epoch 187/250\n",
            "80/80 [==============================] - 0s 27us/step - loss: 392.9379 - mean_absolute_error: 16.4508 - acc: 0.0000e+00\n",
            "Epoch 188/250\n",
            "80/80 [==============================] - 0s 34us/step - loss: 392.3386 - mean_absolute_error: 16.4403 - acc: 0.0000e+00\n",
            "Epoch 189/250\n",
            "80/80 [==============================] - 0s 36us/step - loss: 391.7564 - mean_absolute_error: 16.4298 - acc: 0.0000e+00\n",
            "Epoch 190/250\n",
            "80/80 [==============================] - 0s 36us/step - loss: 391.1912 - mean_absolute_error: 16.4196 - acc: 0.0000e+00\n",
            "Epoch 191/250\n",
            "80/80 [==============================] - 0s 39us/step - loss: 390.6422 - mean_absolute_error: 16.4095 - acc: 0.0000e+00\n",
            "Epoch 192/250\n",
            "80/80 [==============================] - 0s 26us/step - loss: 390.1091 - mean_absolute_error: 16.3995 - acc: 0.0000e+00\n",
            "Epoch 193/250\n",
            "80/80 [==============================] - 0s 28us/step - loss: 389.5914 - mean_absolute_error: 16.3897 - acc: 0.0000e+00\n",
            "Epoch 194/250\n",
            "80/80 [==============================] - 0s 56us/step - loss: 389.0887 - mean_absolute_error: 16.3800 - acc: 0.0000e+00\n",
            "Epoch 195/250\n",
            "80/80 [==============================] - 0s 37us/step - loss: 388.6004 - mean_absolute_error: 16.3705 - acc: 0.0000e+00\n",
            "Epoch 196/250\n",
            "80/80 [==============================] - 0s 26us/step - loss: 388.1263 - mean_absolute_error: 16.3611 - acc: 0.0000e+00\n",
            "Epoch 197/250\n",
            "80/80 [==============================] - 0s 26us/step - loss: 387.6659 - mean_absolute_error: 16.3518 - acc: 0.0000e+00\n",
            "Epoch 198/250\n",
            "80/80 [==============================] - 0s 23us/step - loss: 387.2187 - mean_absolute_error: 16.3427 - acc: 0.0000e+00\n",
            "Epoch 199/250\n",
            "80/80 [==============================] - 0s 58us/step - loss: 386.7844 - mean_absolute_error: 16.3337 - acc: 0.0000e+00\n",
            "Epoch 200/250\n",
            "80/80 [==============================] - 0s 27us/step - loss: 386.3627 - mean_absolute_error: 16.3250 - acc: 0.0000e+00\n",
            "Epoch 201/250\n",
            "80/80 [==============================] - 0s 35us/step - loss: 385.9532 - mean_absolute_error: 16.3179 - acc: 0.0000e+00\n",
            "Epoch 202/250\n",
            "80/80 [==============================] - 0s 41us/step - loss: 385.5555 - mean_absolute_error: 16.3113 - acc: 0.0000e+00\n",
            "Epoch 203/250\n",
            "80/80 [==============================] - 0s 35us/step - loss: 385.1693 - mean_absolute_error: 16.3047 - acc: 0.0000e+00\n",
            "Epoch 204/250\n",
            "80/80 [==============================] - 0s 34us/step - loss: 384.7943 - mean_absolute_error: 16.2987 - acc: 0.0000e+00\n",
            "Epoch 205/250\n",
            "80/80 [==============================] - 0s 26us/step - loss: 384.4301 - mean_absolute_error: 16.2937 - acc: 0.0000e+00\n",
            "Epoch 206/250\n",
            "80/80 [==============================] - 0s 25us/step - loss: 384.0764 - mean_absolute_error: 16.2888 - acc: 0.0000e+00\n",
            "Epoch 207/250\n",
            "80/80 [==============================] - 0s 32us/step - loss: 383.7329 - mean_absolute_error: 16.2840 - acc: 0.0000e+00\n",
            "Epoch 208/250\n",
            "80/80 [==============================] - 0s 40us/step - loss: 383.3993 - mean_absolute_error: 16.2792 - acc: 0.0000e+00\n",
            "Epoch 209/250\n",
            "80/80 [==============================] - 0s 40us/step - loss: 383.0754 - mean_absolute_error: 16.2745 - acc: 0.0000e+00\n",
            "Epoch 210/250\n",
            "80/80 [==============================] - 0s 49us/step - loss: 382.7608 - mean_absolute_error: 16.2699 - acc: 0.0000e+00\n",
            "Epoch 211/250\n",
            "80/80 [==============================] - 0s 34us/step - loss: 382.4553 - mean_absolute_error: 16.2654 - acc: 0.0000e+00\n",
            "Epoch 212/250\n",
            "80/80 [==============================] - 0s 47us/step - loss: 382.1586 - mean_absolute_error: 16.2609 - acc: 0.0000e+00\n",
            "Epoch 213/250\n",
            "80/80 [==============================] - 0s 27us/step - loss: 381.8705 - mean_absolute_error: 16.2565 - acc: 0.0000e+00\n",
            "Epoch 214/250\n",
            "80/80 [==============================] - 0s 40us/step - loss: 381.5907 - mean_absolute_error: 16.2521 - acc: 0.0000e+00\n",
            "Epoch 215/250\n",
            "80/80 [==============================] - 0s 34us/step - loss: 381.3190 - mean_absolute_error: 16.2478 - acc: 0.0000e+00\n",
            "Epoch 216/250\n",
            "80/80 [==============================] - 0s 100us/step - loss: 381.0552 - mean_absolute_error: 16.2436 - acc: 0.0000e+00\n",
            "Epoch 217/250\n",
            "80/80 [==============================] - 0s 38us/step - loss: 380.7988 - mean_absolute_error: 16.2394 - acc: 0.0000e+00\n",
            "Epoch 218/250\n",
            "80/80 [==============================] - 0s 29us/step - loss: 380.5500 - mean_absolute_error: 16.2353 - acc: 0.0000e+00\n",
            "Epoch 219/250\n",
            "80/80 [==============================] - 0s 52us/step - loss: 380.3083 - mean_absolute_error: 16.2312 - acc: 0.0000e+00\n",
            "Epoch 220/250\n",
            "80/80 [==============================] - 0s 42us/step - loss: 380.0736 - mean_absolute_error: 16.2272 - acc: 0.0000e+00\n",
            "Epoch 221/250\n",
            "80/80 [==============================] - 0s 45us/step - loss: 379.8457 - mean_absolute_error: 16.2233 - acc: 0.0000e+00\n",
            "Epoch 222/250\n",
            "80/80 [==============================] - 0s 38us/step - loss: 379.6244 - mean_absolute_error: 16.2194 - acc: 0.0000e+00\n",
            "Epoch 223/250\n",
            "80/80 [==============================] - 0s 35us/step - loss: 379.4094 - mean_absolute_error: 16.2156 - acc: 0.0000e+00\n",
            "Epoch 224/250\n",
            "80/80 [==============================] - 0s 48us/step - loss: 379.2007 - mean_absolute_error: 16.2118 - acc: 0.0000e+00\n",
            "Epoch 225/250\n",
            "80/80 [==============================] - 0s 40us/step - loss: 378.9979 - mean_absolute_error: 16.2081 - acc: 0.0000e+00\n",
            "Epoch 226/250\n",
            "80/80 [==============================] - 0s 28us/step - loss: 378.8011 - mean_absolute_error: 16.2044 - acc: 0.0000e+00\n",
            "Epoch 227/250\n",
            "80/80 [==============================] - 0s 40us/step - loss: 378.6098 - mean_absolute_error: 16.2008 - acc: 0.0000e+00\n",
            "Epoch 228/250\n",
            "80/80 [==============================] - 0s 45us/step - loss: 378.4242 - mean_absolute_error: 16.1973 - acc: 0.0000e+00\n",
            "Epoch 229/250\n",
            "80/80 [==============================] - 0s 89us/step - loss: 378.2439 - mean_absolute_error: 16.1938 - acc: 0.0000e+00\n",
            "Epoch 230/250\n",
            "80/80 [==============================] - 0s 31us/step - loss: 378.0688 - mean_absolute_error: 16.1903 - acc: 0.0000e+00\n",
            "Epoch 231/250\n",
            "80/80 [==============================] - 0s 36us/step - loss: 377.8988 - mean_absolute_error: 16.1869 - acc: 0.0000e+00\n",
            "Epoch 232/250\n",
            "80/80 [==============================] - 0s 45us/step - loss: 377.7336 - mean_absolute_error: 16.1835 - acc: 0.0000e+00\n",
            "Epoch 233/250\n",
            "80/80 [==============================] - 0s 44us/step - loss: 377.5732 - mean_absolute_error: 16.1802 - acc: 0.0000e+00\n",
            "Epoch 234/250\n",
            "80/80 [==============================] - 0s 55us/step - loss: 377.4175 - mean_absolute_error: 16.1770 - acc: 0.0000e+00\n",
            "Epoch 235/250\n",
            "80/80 [==============================] - 0s 48us/step - loss: 377.2663 - mean_absolute_error: 16.1738 - acc: 0.0000e+00\n",
            "Epoch 236/250\n",
            "80/80 [==============================] - 0s 38us/step - loss: 377.1194 - mean_absolute_error: 16.1706 - acc: 0.0000e+00\n",
            "Epoch 237/250\n",
            "80/80 [==============================] - 0s 36us/step - loss: 376.9767 - mean_absolute_error: 16.1675 - acc: 0.0000e+00\n",
            "Epoch 238/250\n",
            "80/80 [==============================] - 0s 40us/step - loss: 376.8382 - mean_absolute_error: 16.1644 - acc: 0.0000e+00\n",
            "Epoch 239/250\n",
            "80/80 [==============================] - 0s 23us/step - loss: 376.7037 - mean_absolute_error: 16.1614 - acc: 0.0000e+00\n",
            "Epoch 240/250\n",
            "80/80 [==============================] - 0s 31us/step - loss: 376.5731 - mean_absolute_error: 16.1588 - acc: 0.0000e+00\n",
            "Epoch 241/250\n",
            "80/80 [==============================] - 0s 29us/step - loss: 376.4462 - mean_absolute_error: 16.1571 - acc: 0.0000e+00\n",
            "Epoch 242/250\n",
            "80/80 [==============================] - 0s 34us/step - loss: 376.3230 - mean_absolute_error: 16.1554 - acc: 0.0000e+00\n",
            "Epoch 243/250\n",
            "80/80 [==============================] - 0s 29us/step - loss: 376.2034 - mean_absolute_error: 16.1537 - acc: 0.0000e+00\n",
            "Epoch 244/250\n",
            "80/80 [==============================] - 0s 52us/step - loss: 376.0871 - mean_absolute_error: 16.1520 - acc: 0.0000e+00\n",
            "Epoch 245/250\n",
            "80/80 [==============================] - 0s 50us/step - loss: 375.9743 - mean_absolute_error: 16.1504 - acc: 0.0000e+00\n",
            "Epoch 246/250\n",
            "80/80 [==============================] - 0s 36us/step - loss: 375.8647 - mean_absolute_error: 16.1488 - acc: 0.0000e+00\n",
            "Epoch 247/250\n",
            "80/80 [==============================] - 0s 64us/step - loss: 375.7582 - mean_absolute_error: 16.1472 - acc: 0.0000e+00\n",
            "Epoch 248/250\n",
            "80/80 [==============================] - 0s 38us/step - loss: 375.6549 - mean_absolute_error: 16.1456 - acc: 0.0000e+00\n",
            "Epoch 249/250\n",
            "80/80 [==============================] - 0s 48us/step - loss: 375.5545 - mean_absolute_error: 16.1441 - acc: 0.0000e+00\n",
            "Epoch 250/250\n",
            "80/80 [==============================] - 0s 51us/step - loss: 375.4571 - mean_absolute_error: 16.1426 - acc: 0.0000e+00\n"
          ],
          "name": "stdout"
        }
      ]
    },
    {
      "cell_type": "code",
      "metadata": {
        "id": "EX4KkIvPTR58",
        "colab_type": "code",
        "outputId": "a148675b-8912-4bfc-c765-8a8401146d9a",
        "colab": {}
      },
      "source": [
        "m.get_weights()"
      ],
      "execution_count": 0,
      "outputs": [
        {
          "output_type": "execute_result",
          "data": {
            "text/plain": [
              "[array([[80.528725]], dtype=float32), array([-3.5062547], dtype=float32)]"
            ]
          },
          "metadata": {
            "tags": []
          },
          "execution_count": 73
        }
      ]
    }
  ]
}